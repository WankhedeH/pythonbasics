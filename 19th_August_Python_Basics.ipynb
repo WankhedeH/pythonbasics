{
 "cells": [
  {
   "cell_type": "code",
   "execution_count": 1,
   "id": "053e4b04-61e0-4e13-9838-57bf3de8db77",
   "metadata": {},
   "outputs": [
    {
     "name": "stdout",
     "output_type": "stream",
     "text": [
      "3 2\n"
     ]
    }
   ],
   "source": [
    "#Here I take the 2 variables with the name of x and y and gave them values\n",
    "x=2\n",
    "y=3\n",
    "#Here I add both the values of x and y so that I don't have to use the 3rd variable\n",
    "x=x+y\n",
    "#In here the new value of x is 5 and I substract that from y so that I can get the value of x\n",
    "y=x-y\n",
    "#Here the new value of y is 2 and I substract y from x. The value of x is 5\n",
    "x=x-y\n",
    "#Here I print both the values\n",
    "print(x,y)"
   ]
  },
  {
   "cell_type": "code",
   "execution_count": 2,
   "id": "7028d98e-4fd0-4e2b-9bdf-a2a66cb28047",
   "metadata": {},
   "outputs": [
    {
     "name": "stdin",
     "output_type": "stream",
     "text": [
      " 2\n",
      " 3\n"
     ]
    },
    {
     "name": "stdout",
     "output_type": "stream",
     "text": [
      "6\n"
     ]
    }
   ],
   "source": [
    "#Here I declared a variable of integer type named \"length\" to take the input from the user and to store it.\n",
    "length=int(input())\n",
    "#Here I declared a variable of integer type named \"width\" to take the input from the user and to store it.\n",
    "width=int(input())\n",
    "#Here I applied the formula for Area of Rectangle\n",
    "Area_of_rectangle=length*width\n",
    "#Here I printed the value of Area of Rectangle\n",
    "print(Area_of_rectangle)"
   ]
  },
  {
   "cell_type": "code",
   "execution_count": 3,
   "id": "1e9c13f7-d544-493a-ac86-78b6da4e6b8a",
   "metadata": {},
   "outputs": [
    {
     "name": "stdin",
     "output_type": "stream",
     "text": [
      " 34\n"
     ]
    },
    {
     "name": "stdout",
     "output_type": "stream",
     "text": [
      "93.2\n"
     ]
    }
   ],
   "source": [
    "#Here I declared a variable of float type named \"temperature_in_Celsius\" to take the input from the user and to store it.\n",
    "temperature_in_Celsius=float(input())\n",
    "#Here I applied the formula for the convertion of Celsius to Fahrenheit\n",
    "temperature_in_Fahrenheit=(temperature_in_Celsius * 1.8) + 32\n",
    "#Here I print the value of the Fahrenheit\n",
    "print(temperature_in_Fahrenheit)"
   ]
  },
  {
   "cell_type": "code",
   "execution_count": 4,
   "id": "c199244b-2361-4498-aadf-75a5db8e2b1b",
   "metadata": {},
   "outputs": [
    {
     "name": "stdin",
     "output_type": "stream",
     "text": [
      " Harshwardhan\n"
     ]
    },
    {
     "data": {
      "text/plain": [
       "12"
      ]
     },
     "execution_count": 4,
     "metadata": {},
     "output_type": "execute_result"
    }
   ],
   "source": [
    "#Here I have taken the input string from the user and store it in a variable 'q'\n",
    "q=str(input())\n",
    "#Here I printed the length of the string using the Python function \"len\".\n",
    "len(q)"
   ]
  },
  {
   "cell_type": "code",
   "execution_count": 6,
   "id": "459f1159-c05b-4a5f-a811-3c777d7fa78f",
   "metadata": {},
   "outputs": [
    {
     "name": "stdin",
     "output_type": "stream",
     "text": [
      " aeiouAEIOU\n"
     ]
    },
    {
     "name": "stdout",
     "output_type": "stream",
     "text": [
      "10\n"
     ]
    }
   ],
   "source": [
    "#Here I take the input string from the user and store it in a variable named \"string\"\n",
    "string=str(input())\n",
    "#I declared another variable name vowels where I stored the vowels.\n",
    "vowels=\"aeiouAEIOU\"\n",
    "#Here I use 'count' function so that I can count the all poosible vowels present in the sentence and I sum it together using 'sum' function and stored it in a variable called 'count'\n",
    "count=sum(string.count(vowel) for vowel in vowels)\n",
    "#Here I print the value of the variable.\n",
    "print(count)"
   ]
  },
  {
   "cell_type": "code",
   "execution_count": 7,
   "id": "c9bee14d-c87e-4cf8-b276-8d44a3c65403",
   "metadata": {},
   "outputs": [
    {
     "data": {
      "text/plain": [
       "'nahdrawhsraH'"
      ]
     },
     "execution_count": 7,
     "metadata": {},
     "output_type": "execute_result"
    }
   ],
   "source": [
    "#Here I have taken a String and stored it in a variable called s\n",
    "s=\"Harshwardhan\"\n",
    "#Here I reversed the String using slicing and printed the output\n",
    "s[::-1]"
   ]
  },
  {
   "cell_type": "code",
   "execution_count": 9,
   "id": "3df59453-e215-4ff9-adbd-fb35c9b32990",
   "metadata": {},
   "outputs": [
    {
     "name": "stdin",
     "output_type": "stream",
     "text": [
      " mama\n"
     ]
    },
    {
     "name": "stdout",
     "output_type": "stream",
     "text": [
      "String is not palindrome\n"
     ]
    }
   ],
   "source": [
    "#Here I have taken the input from the user and store it in a variable called s1\n",
    "s1=str(input())\n",
    "#Here I created one empty string so that I can compared the strings with each other\n",
    "y=\"\"\n",
    "#Here I use for loop so that I can itterate the sting \n",
    "for i in s1:\n",
    "#Here I stored the value in the variable y    \n",
    "    y=i+y\n",
    "#Here I use condition statement that is \"if\". If the condition is true then only this condition will execute OR else part will be executed.   \n",
    "if (s1==y):\n",
    "    print(\"String is palindrome\")\n",
    "#Here I use condition statement that is \"else\". If the above condition is false then only this condition will execute.\n",
    "else:\n",
    "    print(\"String is not palindrome\")"
   ]
  },
  {
   "cell_type": "code",
   "execution_count": 10,
   "id": "9d4e358f-057b-4298-ac15-dc647f15e8df",
   "metadata": {},
   "outputs": [
    {
     "name": "stdin",
     "output_type": "stream",
     "text": [
      " h xc sc sdf asdf af af     f as as f  as as f sf asf fafas f \n"
     ]
    },
    {
     "name": "stdout",
     "output_type": "stream",
     "text": [
      "hxcscsdfasdfafaffasasfasasfsfasffafasf\n"
     ]
    }
   ],
   "source": [
    "#Here I taken the input from the user and stored it in a variable called s2\n",
    "s2=str(input())\n",
    "#Here I use the REPLACE function to replace the space with no space and stored it in a variable\n",
    "s3=s2.replace(\" \",\"\")\n",
    "#Here I just printed the variable to get the value.\n",
    "print(s3)"
   ]
  },
  {
   "cell_type": "code",
   "execution_count": null,
   "id": "de5e5b98-b89c-49c0-9a1d-977325f3a39a",
   "metadata": {},
   "outputs": [],
   "source": []
  }
 ],
 "metadata": {
  "kernelspec": {
   "display_name": "Python 3 (ipykernel)",
   "language": "python",
   "name": "python3"
  },
  "language_info": {
   "codemirror_mode": {
    "name": "ipython",
    "version": 3
   },
   "file_extension": ".py",
   "mimetype": "text/x-python",
   "name": "python",
   "nbconvert_exporter": "python",
   "pygments_lexer": "ipython3",
   "version": "3.10.8"
  }
 },
 "nbformat": 4,
 "nbformat_minor": 5
}
