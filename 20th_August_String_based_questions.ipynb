{
 "cells": [
  {
   "cell_type": "code",
   "execution_count": 41,
   "id": "66e7c252-ee32-4ba0-b421-8e980807aba3",
   "metadata": {},
   "outputs": [
    {
     "data": {
      "text/plain": [
       "'!nahk si eman yM'"
      ]
     },
     "execution_count": 41,
     "metadata": {},
     "output_type": "execute_result"
    }
   ],
   "source": [
    "#Here I take the string and stored it in a variable called \"s\"\n",
    "s = \"My name is khan!\"\n",
    "#Here I reversed the string using slicing\n",
    "s[::-1]"
   ]
  },
  {
   "cell_type": "code",
   "execution_count": 8,
   "id": "deb6b962-db5d-4254-b7df-078bea7c8a41",
   "metadata": {},
   "outputs": [
    {
     "name": "stdout",
     "output_type": "stream",
     "text": [
      "String is palindrome\n"
     ]
    }
   ],
   "source": [
    "#Here I created one empty string so that I can compared the strings with each other\n",
    "y=\"\"\n",
    "#Here I use for loop so that I can itterate the sting \n",
    "for i in s:\n",
    "#Here I stored the value in the variable y    \n",
    "    y=i+y\n",
    "#Here I use condition statement that is \"if\". If the condition is true then only this condition will execute OR else part will be executed.   \n",
    "if (s==y):\n",
    "    print(\"String is palindrome\")\n",
    "#Here I use condition statement that is \"else\". If the above condition is false then only this condition will execute.\n",
    "else:\n",
    "    print(\"String is not palindrome\")"
   ]
  },
  {
   "cell_type": "code",
   "execution_count": 10,
   "id": "4af97e45-58b3-4e29-abc4-1f3d6478e2d9",
   "metadata": {},
   "outputs": [
    {
     "data": {
      "text/plain": [
       "'DAD'"
      ]
     },
     "execution_count": 10,
     "metadata": {},
     "output_type": "execute_result"
    }
   ],
   "source": [
    "#Here I used the .upper function which is already available, to convert the string into UPPER case\n",
    "s.upper()"
   ]
  },
  {
   "cell_type": "code",
   "execution_count": 12,
   "id": "9e6d37e4-05c3-4c00-aee3-fd4ee170d42a",
   "metadata": {},
   "outputs": [
    {
     "data": {
      "text/plain": [
       "'dad'"
      ]
     },
     "execution_count": 12,
     "metadata": {},
     "output_type": "execute_result"
    }
   ],
   "source": [
    "#Here I used the .lower function which is already available, to convert the string into LOWER case\n",
    "s.lower()"
   ]
  },
  {
   "cell_type": "code",
   "execution_count": 19,
   "id": "2c56374a-6ac7-4071-ba5b-451e3a6ea1ec",
   "metadata": {},
   "outputs": [
    {
     "name": "stdout",
     "output_type": "stream",
     "text": [
      "10\n"
     ]
    }
   ],
   "source": [
    "#Here I declared a variable name vowels where I stored the vowels.\n",
    "vowels=\"aeiouAEIOU\"\n",
    "#Here I use 'count' function so that I can count the all poosible vowels present in the sentence and I sum it together using 'sum' function and stored it in a variable called 'count_of_vowels'\n",
    "count_of_vowels=sum(s.count(vowel) for vowel in vowels)\n",
    "#Here I print the value of the variable.\n",
    "print(count_of_vowels)"
   ]
  },
  {
   "cell_type": "code",
   "execution_count": 30,
   "id": "58eabbbc-4451-448a-998a-1858243269b1",
   "metadata": {},
   "outputs": [
    {
     "name": "stdout",
     "output_type": "stream",
     "text": [
      "9\n"
     ]
    }
   ],
   "source": [
    "#Here I declared a variable name consonents where I stored the consonents.\n",
    "consonents = \"B, C, D, F, G, H, J, K, L, M, N, P, Q, R, S, T, V, W, X, Y, Z, b, c, d, f, g, h, j, k, l, m, n, p, q, r, s, t, v, w, x, y, z\"\n",
    "#Here I use 'count' function so that I can count the all poosible consonents present in the sentence and I sum it together using 'sum' function and stored it in a variable called 'count_of_consonents'\n",
    "count_of_consonents = sum(s.count(consonent) for consonent in consonents)\n",
    "#Here I print the value of the variable.\n",
    "print(count_of_consonents)"
   ]
  },
  {
   "cell_type": "code",
   "execution_count": 33,
   "id": "cf9831a9-02ab-44c2-92db-c548bdf0b44e",
   "metadata": {},
   "outputs": [
    {
     "data": {
      "text/plain": [
       "'HARSHWARDHAN'"
      ]
     },
     "execution_count": 33,
     "metadata": {},
     "output_type": "execute_result"
    }
   ],
   "source": [
    "#Here using replace function in the String I can replace all the space in a String\n",
    "s.replace(\" \",\"\")"
   ]
  },
  {
   "cell_type": "code",
   "execution_count": 36,
   "id": "fc5aa057-67eb-4f01-9cd7-96f28b054637",
   "metadata": {},
   "outputs": [
    {
     "name": "stdout",
     "output_type": "stream",
     "text": [
      "16\n"
     ]
    }
   ],
   "source": [
    "#Here I take 1 empty variable called str1\n",
    "str1 = 0\n",
    "#Here I for loop to itterate the string\n",
    "for i in s:\n",
    "#Here I start incrementing the value of str1 till the last value    \n",
    "     str1 = str1 + 1\n",
    "#Here I simply printed the value using the print function.    \n",
    "print(str1)"
   ]
  },
  {
   "cell_type": "code",
   "execution_count": 22,
   "id": "d53d3412-2bfa-4c22-9c6a-63a6be4654e7",
   "metadata": {},
   "outputs": [
    {
     "name": "stdout",
     "output_type": "stream",
     "text": [
      "name is present in String\n"
     ]
    }
   ],
   "source": [
    "#Here I used the index method to find the word is present in the string or not if it is not \n",
    "str2 = \"name\"\n",
    "if str2 in s:\n",
    "    print(str2 + \" is present in String\")\n",
    "else:\n",
    "    print(str2 + \" is not present in String\")"
   ]
  },
  {
   "cell_type": "code",
   "execution_count": 24,
   "id": "cf6c5ac6-7da0-4753-9995-3daf1ca6538a",
   "metadata": {},
   "outputs": [
    {
     "data": {
      "text/plain": [
       "'My aam is Khan'"
      ]
     },
     "execution_count": 24,
     "metadata": {},
     "output_type": "execute_result"
    }
   ],
   "source": [
    "#Here I use the replace function in the String to replace the word with another one\n",
    "s.replace(\"name\", \"aam\")"
   ]
  },
  {
   "cell_type": "code",
   "execution_count": 74,
   "id": "bad54b20-9d25-461d-a9cb-3a983d1428ae",
   "metadata": {},
   "outputs": [
    {
     "data": {
      "text/plain": [
       "1"
      ]
     },
     "execution_count": 74,
     "metadata": {},
     "output_type": "execute_result"
    }
   ],
   "source": [
    "#Here I use the count function in the String to count the word\n",
    "s.count(\"Khan\")"
   ]
  },
  {
   "cell_type": "code",
   "execution_count": 34,
   "id": "98b631cd-e786-4bb5-959f-254042e53d07",
   "metadata": {},
   "outputs": [
    {
     "data": {
      "text/plain": [
       "4"
      ]
     },
     "execution_count": 34,
     "metadata": {},
     "output_type": "execute_result"
    }
   ],
   "source": [
    "#Here I use the find function in the String to find the first occurence of word.\n",
    "s.find(\"a\")"
   ]
  },
  {
   "cell_type": "code",
   "execution_count": 36,
   "id": "a4dadd14-dd7f-41db-88ab-8e7150791eda",
   "metadata": {},
   "outputs": [
    {
     "data": {
      "text/plain": [
       "13"
      ]
     },
     "execution_count": 36,
     "metadata": {},
     "output_type": "execute_result"
    }
   ],
   "source": [
    "#Here I use the rfind function in the String to find the last occurence of word.\n",
    "s.rfind(\"a\")"
   ]
  },
  {
   "cell_type": "code",
   "execution_count": 38,
   "id": "33717245-7974-4e2e-90c2-8ea30735f54b",
   "metadata": {},
   "outputs": [
    {
     "data": {
      "text/plain": [
       "['My', 'name', 'is', 'Khan']"
      ]
     },
     "execution_count": 38,
     "metadata": {},
     "output_type": "execute_result"
    }
   ],
   "source": [
    "#Here I use the split function in the Sting to split the string into words\n",
    "s.split()"
   ]
  },
  {
   "cell_type": "code",
   "execution_count": 47,
   "id": "d8dd2e9d-d76b-4442-bc2d-e5f6cc734b17",
   "metadata": {},
   "outputs": [
    {
     "name": "stdout",
     "output_type": "stream",
     "text": [
      "PW skills is great for Data Science\n"
     ]
    }
   ],
   "source": [
    "#Here I take a list with several words and stored it in list1\n",
    "list1 = [\"PW skills\" , \"is\" , \"great\", \"for\" , \"Data Science\"]\n",
    "#Here I use join function to join the list of words and print it\n",
    "print(' '.join(list1))"
   ]
  },
  {
   "cell_type": "code",
   "execution_count": 48,
   "id": "d8dd486c-b05a-4bf4-ac2b-a77ffc81ff5a",
   "metadata": {},
   "outputs": [
    {
     "data": {
      "text/plain": [
       "'My_name_is_Khan'"
      ]
     },
     "execution_count": 48,
     "metadata": {},
     "output_type": "execute_result"
    }
   ],
   "source": [
    "#Here I use the replace function to replace the space with underscores\n",
    "s.replace(\" \", \"_\")"
   ]
  },
  {
   "cell_type": "code",
   "execution_count": 49,
   "id": "ec0a9f67-1e3f-430d-b815-1ffae43c00fd",
   "metadata": {},
   "outputs": [
    {
     "data": {
      "text/plain": [
       "True"
      ]
     },
     "execution_count": 49,
     "metadata": {},
     "output_type": "execute_result"
    }
   ],
   "source": [
    "#Here I use the startswith function to check weather the string startswith the specific word or phrase or not\n",
    "s.startswith(\"My\")"
   ]
  },
  {
   "cell_type": "code",
   "execution_count": 53,
   "id": "4c729abd-8d1c-40f6-882c-72815e5f7293",
   "metadata": {},
   "outputs": [
    {
     "data": {
      "text/plain": [
       "False"
      ]
     },
     "execution_count": 53,
     "metadata": {},
     "output_type": "execute_result"
    }
   ],
   "source": [
    "#Here I use the endswith function to check weather the string endswith the specific word or phrase or not\n",
    "s.endswith(\"aamy\")"
   ]
  },
  {
   "cell_type": "code",
   "execution_count": 56,
   "id": "2e3d03cc-ccc2-4749-a4f9-ad87d5d92555",
   "metadata": {},
   "outputs": [
    {
     "data": {
      "text/plain": [
       "'My Name Is Khan'"
      ]
     },
     "execution_count": 56,
     "metadata": {},
     "output_type": "execute_result"
    }
   ],
   "source": [
    "#Here I use the title function in the string to title case the String, so that the first letter of every word is in capital case\n",
    "s.title()"
   ]
  },
  {
   "cell_type": "code",
   "execution_count": 63,
   "id": "5438befd-7b4f-4149-90ad-9e5c7dcddaa0",
   "metadata": {},
   "outputs": [
    {
     "name": "stdout",
     "output_type": "stream",
     "text": [
      "Khanna\n"
     ]
    }
   ],
   "source": [
    "#Here I first convert the string into a list so that I can perform another action on it\n",
    "split_into_list = s.split()\n",
    "#Here I use max finction and gave the key as length, so that it will give the max count of that word\n",
    "longest_word = max(split_into_list , key=len)\n",
    "#Here I use simply a print function to print the value\n",
    "print(longest_word)"
   ]
  },
  {
   "cell_type": "code",
   "execution_count": 65,
   "id": "76060879-5ca8-4ff8-9d46-ac915d500bc4",
   "metadata": {},
   "outputs": [
    {
     "name": "stdout",
     "output_type": "stream",
     "text": [
      "My\n"
     ]
    }
   ],
   "source": [
    "#Here I use min finction and gave the key as length, so that it will give the min count of that word\n",
    "shortest_word = min(split_into_list , key=len)\n",
    "#Here I use simply a print function to print the value\n",
    "print(shortest_word)"
   ]
  },
  {
   "cell_type": "code",
   "execution_count": 67,
   "id": "921c8fd1-c169-4133-ab48-0e58301eeb17",
   "metadata": {},
   "outputs": [
    {
     "name": "stdout",
     "output_type": "stream",
     "text": [
      "Khanna is name My\n"
     ]
    }
   ],
   "source": [
    "# Here I use the split function in string so that I can split the string and then I reversed it as well and stored it in a variable called str3\n",
    "str3 = s.split()[::-1]\n",
    "# Here I create the empty string so that I can use it to store the value\n",
    "list2 = []\n",
    "# Here I use the for loop to itterate\n",
    "for i in str3:\n",
    "# Here appending reversed words to list2\n",
    "\tlist2.append(i)\n",
    "# Here in print function I use join as well to join the words.\n",
    "print(\" \".join(list2))"
   ]
  },
  {
   "cell_type": "code",
   "execution_count": 2,
   "id": "9577bba9-9907-44e7-ab83-e56c528fb13d",
   "metadata": {},
   "outputs": [
    {
     "data": {
      "text/plain": [
       "False"
      ]
     },
     "execution_count": 2,
     "metadata": {},
     "output_type": "execute_result"
    }
   ],
   "source": [
    "# Here I use the isalnum function to check if a string is alphanumeric\n",
    "s.isalnum()"
   ]
  },
  {
   "cell_type": "code",
   "execution_count": 16,
   "id": "692d663e-020c-4209-a0d9-9b421626dc21",
   "metadata": {},
   "outputs": [
    {
     "name": "stdout",
     "output_type": "stream",
     "text": [
      "123\n"
     ]
    }
   ],
   "source": [
    "#Here I declared one empty string\n",
    "digits=\"\"\n",
    "#Here I use for loop to itterate the content in string s\n",
    "for i in s:\n",
    "    #Here I use if loop to check weather there is any digit in string\n",
    "    if i.isdigit():\n",
    "        #Here I append the digit into string and stored it in a variable called digits\n",
    "        digits = digits + i\n",
    "#Here I simply printed the string using print function        \n",
    "print(digits)"
   ]
  },
  {
   "cell_type": "code",
   "execution_count": 21,
   "id": "b4c8ca9d-21d0-417c-9874-1e150a4b4afd",
   "metadata": {},
   "outputs": [
    {
     "name": "stdout",
     "output_type": "stream",
     "text": [
      "Khanna\n"
     ]
    }
   ],
   "source": [
    "#Here I declared one empty string\n",
    "alphabets=\"\"\n",
    "#Here I use for loop to itterate the content in string s\n",
    "for j in s:\n",
    "    #Here I use if loop to check weather there is any alphabets in string\n",
    "    if j.isalpha():\n",
    "        #Here I append the alphabets into string and stored it in a variable called alphabets\n",
    "        alphabets = alphabets + j\n",
    "#Here I simply printed the string using print function        \n",
    "print(alphabets)        "
   ]
  },
  {
   "cell_type": "code",
   "execution_count": 2,
   "id": "affe8aee-a517-48b1-93c8-226302824e07",
   "metadata": {},
   "outputs": [
    {
     "name": "stdout",
     "output_type": "stream",
     "text": [
      "3\n"
     ]
    }
   ],
   "source": [
    "#Here I take a empty variable so that I can store the value\n",
    "number_of_uppercase=0\n",
    "#Here I use for loop to itterate the string\n",
    "for k in s:\n",
    "    #Here I use isupper function to find the case is upper\n",
    "    if k.isupper():\n",
    "        #Here I stored the value in a variable and whenever it find the uppercase, it will going to increment in value by 1 and store it\n",
    "        number_of_uppercase = number_of_uppercase+1\n",
    "#Here I simply printed the value of the variabke        \n",
    "print(number_of_uppercase)"
   ]
  },
  {
   "cell_type": "code",
   "execution_count": 7,
   "id": "89d237bf-b3e3-4338-9aba-6dd9e6acdbfb",
   "metadata": {},
   "outputs": [
    {
     "name": "stdout",
     "output_type": "stream",
     "text": [
      "4\n"
     ]
    }
   ],
   "source": [
    "#Here I take a empty variable so that I can store the value\n",
    "number_of_lowercase=0\n",
    "#Here I use for loop to itterate the string\n",
    "for l in s:\n",
    "    #Here I use islower function to find the case is upper\n",
    "    if l.islower():\n",
    "        #Here I stored the value in a variable and whenever it find the lowercase, it will going to increment in value by 1 and store it\n",
    "        number_of_lowercase = number_of_lowercase+1\n",
    "#Here I simply printed the value of the variabke        \n",
    "print(number_of_lowercase)"
   ]
  },
  {
   "cell_type": "code",
   "execution_count": 9,
   "id": "735ff07d-5e8f-497e-9c2b-47ce7ba8897d",
   "metadata": {},
   "outputs": [
    {
     "data": {
      "text/plain": [
       "'kHAnnNA'"
      ]
     },
     "execution_count": 9,
     "metadata": {},
     "output_type": "execute_result"
    }
   ],
   "source": [
    "#Here I use the swapcase function to swap the case of string\n",
    "s.swapcase()"
   ]
  },
  {
   "cell_type": "code",
   "execution_count": 13,
   "id": "c43d6bb9-87d8-4a2c-aa97-99caceb852d8",
   "metadata": {},
   "outputs": [
    {
     "data": {
      "text/plain": [
       "'My name Khan'"
      ]
     },
     "execution_count": 13,
     "metadata": {},
     "output_type": "execute_result"
    }
   ],
   "source": [
    "#Here I use the replace function to replace the specific word from the String\n",
    "s.replace('is ','')"
   ]
  },
  {
   "cell_type": "code",
   "execution_count": 15,
   "id": "cee20900-9bb7-4792-a766-d995a8b88223",
   "metadata": {},
   "outputs": [
    {
     "name": "stdout",
     "output_type": "stream",
     "text": [
      "True\n",
      "False\n"
     ]
    }
   ],
   "source": [
    "import re  # Import the regular expression module\n",
    "\n",
    "def is_valid_email(email):\n",
    "    pattern = r'^[\\w\\.-]+@[\\w\\.-]+\\.\\w+$'  # Regular expression pattern for a basic email validation\n",
    "    if re.match(pattern, email):\n",
    "        return True\n",
    "    else:\n",
    "        return False\n",
    "\n",
    "# Example email addresses\n",
    "email1 = \"wankhedeh08@email.com\"\n",
    "email2 = \"invalid-emailadd\"\n",
    "result1 = is_valid_email(email1)\n",
    "result2 = is_valid_email(email2)\n",
    "print(result1)\n",
    "print(result2)"
   ]
  },
  {
   "cell_type": "code",
   "execution_count": 22,
   "id": "ab995857-29c1-4b18-a890-a077302e60d8",
   "metadata": {},
   "outputs": [
    {
     "data": {
      "text/plain": [
       "'wankhedeh08'"
      ]
     },
     "execution_count": 22,
     "metadata": {},
     "output_type": "execute_result"
    }
   ],
   "source": [
    "#Here I use split function to get the user name from email along with index\n",
    "email1.split('@')[0]"
   ]
  },
  {
   "cell_type": "code",
   "execution_count": 24,
   "id": "fdbd948b-90cc-409f-ba48-7a1027568e8a",
   "metadata": {},
   "outputs": [
    {
     "data": {
      "text/plain": [
       "'email.com'"
      ]
     },
     "execution_count": 24,
     "metadata": {},
     "output_type": "execute_result"
    }
   ],
   "source": [
    "#Here I use split function to get the domain name from email along with index\n",
    "email1.split('@')[1]"
   ]
  },
  {
   "cell_type": "code",
   "execution_count": 27,
   "id": "f5800341-6e04-4a4c-8312-2294a2db588f",
   "metadata": {},
   "outputs": [
    {
     "name": "stdout",
     "output_type": "stream",
     "text": [
      "My name is Khan\n"
     ]
    }
   ],
   "source": [
    "#Here I use join function as well as split so that I can first split the string and then I can join the string using join function\n",
    "joined_string= ' '.join(s.split())\n",
    "print(joined_string)"
   ]
  },
  {
   "cell_type": "code",
   "execution_count": 29,
   "id": "53cf0b51-a3de-4acd-9c19-b4b2a9b759c8",
   "metadata": {},
   "outputs": [
    {
     "name": "stdout",
     "output_type": "stream",
     "text": [
      "Collecting validators\n",
      "  Downloading validators-0.22.0-py3-none-any.whl (26 kB)\n",
      "Installing collected packages: validators\n",
      "Successfully installed validators-0.22.0\n",
      "Note: you may need to restart the kernel to use updated packages.\n"
     ]
    }
   ],
   "source": [
    "pip install validators"
   ]
  },
  {
   "cell_type": "code",
   "execution_count": 31,
   "id": "bf884600-9521-4ecf-adb7-c0eea1fabb24",
   "metadata": {},
   "outputs": [
    {
     "name": "stdout",
     "output_type": "stream",
     "text": [
      "The string is a valid URL\n"
     ]
    }
   ],
   "source": [
    "#Here I use the validators library to check the string is valid URL\n",
    "import validators\n",
    "#Here I use URL and strored it in a variable\n",
    "string = 'https://www.google.com'\n",
    "#Here it will check for the valid URL and print it\n",
    "if validators.url(string):\n",
    "    print(\"The string is a valid URL\")\n",
    "#Here it will print for the invalid URL    \n",
    "else:\n",
    "    print(\"The string is not a valid URL\")"
   ]
  },
  {
   "cell_type": "code",
   "execution_count": 10,
   "id": "8298991e-9d7f-4767-b644-92f60c28f7f1",
   "metadata": {},
   "outputs": [
    {
     "name": "stdout",
     "output_type": "stream",
     "text": [
      "http\n"
     ]
    }
   ],
   "source": [
    "#Here I use 1 url\n",
    "url = \"http://www.example.com\"\n",
    "#Here I use find function to find out the value that I need\n",
    "protocol_end = url.find(\"://\")\n",
    "\n",
    "#With the help of if and else I printed the output\n",
    "if protocol_end != -1:\n",
    "        # Extract the protocol from the URL\n",
    "    protocol = url[:protocol_end]\n",
    "    print(protocol)\n",
    "else:\n",
    "    print(\"None\") "
   ]
  },
  {
   "cell_type": "code",
   "execution_count": 11,
   "id": "d26bcd40-3e39-4f9b-ae87-ff69a029ac79",
   "metadata": {},
   "outputs": [
    {
     "name": "stdout",
     "output_type": "stream",
     "text": [
      "Character: 'h', Frequency: 1\n",
      "Character: 'e', Frequency: 1\n",
      "Character: 'l', Frequency: 3\n",
      "Character: 'o', Frequency: 2\n",
      "Character: ' ', Frequency: 1\n",
      "Character: 'w', Frequency: 1\n",
      "Character: 'r', Frequency: 1\n",
      "Character: 'd', Frequency: 1\n"
     ]
    }
   ],
   "source": [
    "def character_frequency(input_string):\n",
    "    frequency = {}  # Create an empty dictionary to store character frequencies\n",
    "\n",
    "    for char in input_string:\n",
    "        if char in frequency:\n",
    "            frequency[char] += 1  # Increment the frequency count if the character is already in the dictionary\n",
    "        else:\n",
    "            frequency[char] = 1   # Initialize the frequency count to 1 if the character is not in the dictionary\n",
    "\n",
    "    return frequency\n",
    "\n",
    "# Example string\n",
    "input_str = \"hello world\"\n",
    "\n",
    "# Calculate character frequencies\n",
    "char_freq = character_frequency(input_str)\n",
    "\n",
    "# Print character frequencies\n",
    "for char, freq in char_freq.items():\n",
    "    print(f\"Character: '{char}', Frequency: {freq}\")"
   ]
  },
  {
   "cell_type": "code",
   "execution_count": 12,
   "id": "1013a7e4-c1e9-4e2c-a847-8dc783a4dc69",
   "metadata": {},
   "outputs": [
    {
     "name": "stdout",
     "output_type": "stream",
     "text": [
      "Original string: Hello, world! How's it going?\n",
      "Cleaned string: Hello world Hows it going\n"
     ]
    }
   ],
   "source": [
    "import string\n",
    "\n",
    "def remove_punctuation(input_string):\n",
    "    # Create a translation table to remove punctuation\n",
    "    translator = str.maketrans(\"\", \"\", string.punctuation)\n",
    "\n",
    "    # Use the translation table to remove punctuation from the input string\n",
    "    clean_string = input_string.translate(translator)\n",
    "\n",
    "    return clean_string\n",
    "\n",
    "# Example string with punctuation\n",
    "input_str = \"Hello, world! How's it going?\"\n",
    "\n",
    "# Remove punctuation\n",
    "cleaned_str = remove_punctuation(input_str)\n",
    "\n",
    "# Print the cleaned string\n",
    "print(\"Original string:\", input_str)\n",
    "print(\"Cleaned string:\", cleaned_str)"
   ]
  },
  {
   "cell_type": "code",
   "execution_count": 21,
   "id": "aa979279-e582-4422-8b28-62dae90779be",
   "metadata": {},
   "outputs": [
    {
     "data": {
      "text/plain": [
       "False"
      ]
     },
     "execution_count": 21,
     "metadata": {},
     "output_type": "execute_result"
    }
   ],
   "source": [
    "#Here I use is digit function in the Python to check the string contains only digit\n",
    "\n",
    "s.isdigit()"
   ]
  },
  {
   "cell_type": "code",
   "execution_count": 24,
   "id": "8f9fefe4-a197-4019-9ac5-54f1d4e5888d",
   "metadata": {},
   "outputs": [
    {
     "data": {
      "text/plain": [
       "True"
      ]
     },
     "execution_count": 24,
     "metadata": {},
     "output_type": "execute_result"
    }
   ],
   "source": [
    "#Here I use isalpha to check wheather the string contains only alphabets\n",
    "\n",
    "s.isalpha()"
   ]
  },
  {
   "cell_type": "code",
   "execution_count": 28,
   "id": "55fc693a-49bc-4362-9097-8e78338d34b2",
   "metadata": {},
   "outputs": [
    {
     "name": "stdout",
     "output_type": "stream",
     "text": [
      "['M', 'y', ' ', 'n', 'a', 'm', 'e', ' ', 'i', 's', ' ', 'k', 'h', 'a', 'n']\n"
     ]
    }
   ],
   "source": [
    "char_list = list(s)\n",
    "\n",
    "print(char_list)"
   ]
  },
  {
   "cell_type": "code",
   "execution_count": 31,
   "id": "9095b2f5-c9eb-4ef6-ae7c-896380a71577",
   "metadata": {},
   "outputs": [
    {
     "name": "stdout",
     "output_type": "stream",
     "text": [
      "'part' and 'tap' are anagrams: False\n",
      "'heart' and 'earth' are anagrams: True\n"
     ]
    }
   ],
   "source": [
    "def are_anagrams(str1, str2):\n",
    "    # Remove spaces and convert strings to lowercase for accurate comparison\n",
    "    str1 = str1.replace(\" \", \"\").lower()\n",
    "    str2 = str2.replace(\" \", \"\").lower()\n",
    "\n",
    "    # Sort the characters in both strings and compare\n",
    "    return sorted(str1) == sorted(str2)\n",
    "\n",
    "# Example strings\n",
    "string1 = \"part\"\n",
    "string2 = \"tap\"\n",
    "string3 = \"heart\"\n",
    "string4 = \"earth\"\n",
    "\n",
    "# Check if strings are anagrams\n",
    "result1 = are_anagrams(string1, string2)\n",
    "result2 = are_anagrams(string3, string4)\n",
    "\n",
    "# Print the results\n",
    "print(f\"'{string1}' and '{string2}' are anagrams:\", result1)\n",
    "print(f\"'{string3}' and '{string4}' are anagrams:\", result2)"
   ]
  },
  {
   "cell_type": "code",
   "execution_count": 32,
   "id": "2f990435-b70b-4394-b0a1-3b8137807981",
   "metadata": {},
   "outputs": [
    {
     "name": "stdout",
     "output_type": "stream",
     "text": [
      "Encoded text: ehoor, zruog!\n"
     ]
    }
   ],
   "source": [
    "# Define a function named caesar_cipher that encodes a string using a Caesar cipher.\n",
    "def caesar_cipher(text, shift):\n",
    "  \"\"\"\n",
    "  Encodes a string using a Caesar cipher.\n",
    "\n",
    "  Args:\n",
    "    text: The string to encode.\n",
    "    shift: The number of positions to shift each letter.\n",
    "\n",
    "  Returns:\n",
    "    The encoded string.\n",
    "  \"\"\"\n",
    "\n",
    "  # Initialize an empty string to store the encoded text.\n",
    "  encoded_text = \"\"\n",
    "\n",
    "  # Iterate through each character in the input text.\n",
    "  for char in text:\n",
    "    # Check if the character is alphabetic.\n",
    "    if char.isalpha():\n",
    "      # Calculate the encoded character's Unicode code point value by shifting it by the specified amount.\n",
    "      # Ensure the value wraps around within the lowercase alphabet range (a-z).\n",
    "      encoded_char = chr((ord(char) + shift - ord('a')) % 26 + ord('a'))\n",
    "    else:\n",
    "      # Keep non-alphabetic characters unchanged.\n",
    "      encoded_char = char\n",
    "\n",
    "    # Add the encoded character to the encoded text.\n",
    "    encoded_text += encoded_char\n",
    "\n",
    "  # Return the resulting encoded text.\n",
    "  return encoded_text\n",
    "\n",
    "# Define the input text and the shift value for encoding.\n",
    "text = \"Hello, world!\"\n",
    "shift = 3\n",
    "\n",
    "# Call the caesar_cipher function to encode the text using the specified shift.\n",
    "encoded_text = caesar_cipher(text, shift)\n",
    "\n",
    "# Print the encoded text.\n",
    "print(\"Encoded text:\", encoded_text)"
   ]
  },
  {
   "cell_type": "code",
   "execution_count": 33,
   "id": "acfc6fe8-0374-420d-9c25-1084a46522c2",
   "metadata": {},
   "outputs": [
    {
     "name": "stdout",
     "output_type": "stream",
     "text": [
      "Decoded text: ilmm, world!\n"
     ]
    }
   ],
   "source": [
    "# Define a function to decode a string using a Caesar cipher\n",
    "def caesar_cipher_decoder(text, shift):\n",
    "    \"\"\"\n",
    "    Decodes a string using a Caesar cipher.\n",
    "\n",
    "    Args:\n",
    "        text: The string to decode.\n",
    "        shift: The number of positions to shift each letter.\n",
    "\n",
    "    Returns:\n",
    "        The decoded string.\n",
    "    \"\"\"\n",
    "\n",
    "    # Initialize an empty string to store the decoded text\n",
    "    decoded_text = \"\"\n",
    "\n",
    "    # Loop through each character in the input text\n",
    "    for char in text:\n",
    "        # Check if the character is an alphabetic character\n",
    "        if char.isalpha():\n",
    "            # Calculate the decoded character using the shift value\n",
    "            decoded_char = chr((ord(char) - shift - ord('a')) % 26 + ord('a'))\n",
    "        else:\n",
    "            # If the character is not alphabetic, keep it unchanged\n",
    "            decoded_char = char\n",
    "\n",
    "        # Add the decoded character to the decoded text\n",
    "        decoded_text += decoded_char\n",
    "\n",
    "    # Return the fully decoded text\n",
    "    return decoded_text\n",
    "\n",
    "# Example input\n",
    "text = \"lopp, zruog!\"\n",
    "shift = 3\n",
    "\n",
    "# Call the caesar_cipher_decoder function to decode the input text\n",
    "decoded_text = caesar_cipher_decoder(text, shift)\n",
    "\n",
    "# Print the decoded text\n",
    "print(\"Decoded text:\", decoded_text)"
   ]
  },
  {
   "cell_type": "code",
   "execution_count": 36,
   "id": "b3702e1f-6b91-4160-b6d2-ebbec5ccaaad",
   "metadata": {},
   "outputs": [
    {
     "name": "stdout",
     "output_type": "stream",
     "text": [
      "Most frequent word: hello\n"
     ]
    }
   ],
   "source": [
    "import re\n",
    "from collections import Counter\n",
    "\n",
    "def most_frequent_word(input_string):\n",
    "    # Remove punctuation and convert to lowercase\n",
    "    clean_string = re.sub(r'[^\\w\\s]', '', input_string).lower()\n",
    "\n",
    "    # Split the string into words\n",
    "    words = clean_string.split()\n",
    "\n",
    "    # Use Counter to count word frequencies\n",
    "    word_counter = Counter(words)\n",
    "\n",
    "    # Find the most common word\n",
    "    most_common_word = word_counter.most_common(1)[0][0]\n",
    "\n",
    "\n",
    "\n",
    "\n",
    "    return most_common_word\n",
    "\n",
    "# Example string\n",
    "input_str = \"Hello world, hello there! How's the world?\"\n",
    "\n",
    "# Find the most frequent word\n",
    "most_common = most_frequent_word(input_str)\n",
    "\n",
    "# Print the result\n",
    "print(\"Most frequent word:\", most_common)"
   ]
  },
  {
   "cell_type": "code",
   "execution_count": 37,
   "id": "12fb8a3a-82ca-4871-950b-1453febbd8b9",
   "metadata": {},
   "outputs": [
    {
     "name": "stdout",
     "output_type": "stream",
     "text": [
      "Unique words: {'there', 'hello', 'hows', 'world', 'the'}\n"
     ]
    }
   ],
   "source": [
    "import re\n",
    "\n",
    "def unique_words(input_string):\n",
    "    # Remove punctuation and convert to lowercase\n",
    "    clean_string = re.sub(r'[^\\w\\s]', '', input_string).lower()\n",
    "\n",
    "    # Split the string into words and convert to a set for uniqueness\n",
    "    words = set(clean_string.split())\n",
    "\n",
    "    return words\n",
    "\n",
    "# Example string\n",
    "input_str = \"Hello world, hello there! How's the world?\"\n",
    "\n",
    "# Find unique words\n",
    "unique_word_set = unique_words(input_str)\n",
    "\n",
    "# Print the result\n",
    "print(\"Unique words:\", unique_word_set)"
   ]
  },
  {
   "cell_type": "code",
   "execution_count": 38,
   "id": "6bd8dd58-cec0-4933-9a94-325db68933cd",
   "metadata": {},
   "outputs": [
    {
     "name": "stdout",
     "output_type": "stream",
     "text": [
      "5\n"
     ]
    }
   ],
   "source": [
    "#Here I import regular expression library\n",
    "import re\n",
    "\n",
    "#Here counted the number of syllables in a string\n",
    "vowel_groups = re.findall(r'[aeiouy]+', s, re.IGNORECASE)\n",
    "\n",
    "#Here I printed the length of string so that I can get the value\n",
    "print(len(vowel_groups))\n",
    "\n"
   ]
  },
  {
   "cell_type": "code",
   "execution_count": 43,
   "id": "1738a516-b563-47a0-be4f-04a24640a528",
   "metadata": {},
   "outputs": [
    {
     "name": "stdout",
     "output_type": "stream",
     "text": [
      "True\n"
     ]
    }
   ],
   "source": [
    "#Here I import regular expression library\n",
    "import re\n",
    "\n",
    "#Here I search for the pattern in a string\n",
    "pattern = re.compile(r'[!@#$%^&*()_+{}\\[\\]:;<>,.?~\\\\/]')\n",
    "\n",
    "match = pattern.search(s)\n",
    "\n",
    "#Here I print the value using bool that is True or False\n",
    "print(bool(match))"
   ]
  },
  {
   "cell_type": "code",
   "execution_count": 44,
   "id": "8f2445b2-94fb-49ed-8174-96c9bf270514",
   "metadata": {},
   "outputs": [
    {
     "name": "stdout",
     "output_type": "stream",
     "text": [
      "Original string: This is an example sentence to test the function.\n",
      "Modified string: This is an sentence to test the function.\n",
      "Removed word: example\n"
     ]
    }
   ],
   "source": [
    "def remove_nth_word(input_string, n):\n",
    "    # Split the input string into words\n",
    "    words = input_string.split()\n",
    "\n",
    "    # Check if n is within a valid range\n",
    "    if n >= 1 and n <= len(words):\n",
    "        # Remove the nth word by excluding it from the words list\n",
    "        removed_word = words.pop(n - 1)\n",
    "\n",
    "        # Join the remaining words to form the modified string\n",
    "        modified_string = ' '.join(words)\n",
    "\n",
    "        return modified_string, removed_word\n",
    "    else:\n",
    "        return None, None\n",
    "\n",
    "# Example string and n value\n",
    "input_str = \"This is an example sentence to test the function.\"\n",
    "n_value = 4\n",
    "\n",
    "# Remove the nth word\n",
    "modified_str, removed_word = remove_nth_word(input_str, n_value)\n",
    "\n",
    "# Print the results\n",
    "print(\"Original string:\", input_str)\n",
    "if modified_str is not None:\n",
    "    print(\"Modified string:\", modified_str)\n",
    "    print(\"Removed word:\", removed_word)\n",
    "else:\n",
    "    print(\"Invalid n value.\")"
   ]
  },
  {
   "cell_type": "code",
   "execution_count": null,
   "id": "0a7f9d78-2c82-4dd9-b27f-fb8848408e9e",
   "metadata": {},
   "outputs": [],
   "source": []
  },
  {
   "cell_type": "code",
   "execution_count": 45,
   "id": "ed852c84-fded-4e8f-92b1-8bf5802c7bea",
   "metadata": {},
   "outputs": [
    {
     "name": "stdout",
     "output_type": "stream",
     "text": [
      "['Name', ' Age', ' Country']\n",
      "['John', ' 25', ' USA']\n",
      "['Alice', ' 30', ' Canada']\n",
      "['Bob', ' 22', ' UK']\n"
     ]
    }
   ],
   "source": [
    "def csv_string_to_list(csv_string):\n",
    "    # Split the CSV string into lines\n",
    "    lines = csv_string.split('\\n')\n",
    "\n",
    "    # Initialize an empty list to store the result\n",
    "    result = []\n",
    "\n",
    "    for line in lines:\n",
    "        # Split each line into fields using comma as the delimiter\n",
    "        fields = line.split(',')\n",
    "\n",
    "        # Append the fields to the result list as a row\n",
    "        result.append(fields)\n",
    "\n",
    "    return result\n",
    "\n",
    "# Example CSV string\n",
    "csv_data = \"Name, Age, Country\\nJohn, 25, USA\\nAlice, 30, Canada\\nBob, 22, UK\"\n",
    "\n",
    "# Convert CSV string to a list of lists\n",
    "list_of_lists = csv_string_to_list(csv_data)\n",
    "\n",
    "# Print the result\n",
    "for row in list_of_lists:\n",
    "    print(row)"
   ]
  },
  {
   "cell_type": "code",
   "execution_count": 6,
   "id": "0b0ab2b8-072b-40a5-b6c8-c2c1bb7cb250",
   "metadata": {},
   "outputs": [],
   "source": [
    "#Here I created a list from 1 to 10\n",
    "list = [1, 2, 3, 4, 5, 6, 7, 8, 9, 10]"
   ]
  },
  {
   "cell_type": "code",
   "execution_count": 7,
   "id": "9543f307-b07b-4f35-b1d8-c9a0ae8a171f",
   "metadata": {},
   "outputs": [
    {
     "data": {
      "text/plain": [
       "10"
      ]
     },
     "execution_count": 7,
     "metadata": {},
     "output_type": "execute_result"
    }
   ],
   "source": [
    "#Here I found the length of the string using length function\n",
    "len(list)"
   ]
  },
  {
   "cell_type": "code",
   "execution_count": 8,
   "id": "e51388bb-b169-45da-833d-01e857ada550",
   "metadata": {},
   "outputs": [
    {
     "name": "stdout",
     "output_type": "stream",
     "text": [
      "[1, 2, 3, 4, 5, 6, 7, 8, 9, 10, 11]\n"
     ]
    }
   ],
   "source": [
    "#Here I append an element in the list using append function\n",
    "list.append(11)\n",
    "\n",
    "#Here I print the list using print function\n",
    "print(list)"
   ]
  },
  {
   "cell_type": "code",
   "execution_count": 9,
   "id": "d57e8657-e925-4b1a-929f-b1e02495270b",
   "metadata": {},
   "outputs": [
    {
     "name": "stdout",
     "output_type": "stream",
     "text": [
      "[1, 2, 22, 3, 4, 5, 6, 7, 8, 9, 10, 11]\n"
     ]
    }
   ],
   "source": [
    "#Here I use insert function in the list to insert the element in the specific index (first value is the index, second value is the element to enter)\n",
    "list.insert(2,22)\n",
    "#Here I simply printed the list using print function\n",
    "print(list)"
   ]
  },
  {
   "cell_type": "code",
   "execution_count": 62,
   "id": "8c3c1387-088e-4ec7-bdb4-d54f32c88490",
   "metadata": {},
   "outputs": [
    {
     "name": "stdout",
     "output_type": "stream",
     "text": [
      "Updated list :  [1, 2, 22, 5, 6, 10, 11]\n"
     ]
    }
   ],
   "source": [
    "#Here I take a value to be removed from the list \n",
    "value = 7\n",
    "#Here I use the remove function in the list and I passed the value which is to remove\n",
    "list.remove(value)\n",
    "#Here I use print function to print the list\n",
    "print(\"Updated list : \",list)"
   ]
  },
  {
   "cell_type": "code",
   "execution_count": 17,
   "id": "877520ce-bd8f-45c5-aa98-1a7c9240e9b8",
   "metadata": {},
   "outputs": [
    {
     "name": "stdout",
     "output_type": "stream",
     "text": [
      "List after remove the element from index :  [1, 2, 22, 5, 6, 7, 10, 11]\n"
     ]
    }
   ],
   "source": [
    "#Here I declared a varible and gave it a value of index to be removed\n",
    "index_to_remove = 3\n",
    "#Here I use pop function in list to remove a element and stored it in a variable\n",
    "removed_element = lis\n",
    "t.pop(index_to_remove)\n",
    "#Here I use print function to print the value of list\n",
    "print(\"List after remove the element from index : \",list)"
   ]
  },
  {
   "cell_type": "code",
   "execution_count": 60,
   "id": "fe0afcbc-1f2a-43c2-acae-b8efd1f409a2",
   "metadata": {},
   "outputs": [
    {
     "name": "stdout",
     "output_type": "stream",
     "text": [
      "2 is present in the list\n"
     ]
    }
   ],
   "source": [
    "#Here I take an element to be checked in the list and stored it in a variable called 'q'\n",
    "q=2\n",
    "#Here I use IF ELSE ladder to check the condition that the element is present in the list or not\n",
    "if q in list:\n",
    "    #Here I use print function\n",
    "    print(q ,\"is present in the list\")\n",
    "#Here I use else if the element is not present in the list    \n",
    "else:\n",
    "    #Here I use print function\n",
    "    print(q,\"is not present in the list\")"
   ]
  },
  {
   "cell_type": "code",
   "execution_count": 26,
   "id": "cca5acd8-17bb-4c73-a3ad-bdd6d41ee4bd",
   "metadata": {},
   "outputs": [
    {
     "data": {
      "text/plain": [
       "3"
      ]
     },
     "execution_count": 26,
     "metadata": {},
     "output_type": "execute_result"
    }
   ],
   "source": [
    "#Here I use the index function in the list to know the index value of an element\n",
    "list.index(5)"
   ]
  },
  {
   "cell_type": "code",
   "execution_count": 11,
   "id": "4a61ac40-3089-449f-b866-88574bdeb85b",
   "metadata": {},
   "outputs": [
    {
     "data": {
      "text/plain": [
       "2"
      ]
     },
     "execution_count": 11,
     "metadata": {},
     "output_type": "execute_result"
    }
   ],
   "source": [
    "#Here I take a new list\n",
    "list1 = [1,2,4,5,6,78,9,76,5,4,33]\n",
    "#Here I use count function in the list to count the occurences of an element in the list\n",
    "list1.count(4)"
   ]
  },
  {
   "cell_type": "code",
   "execution_count": 32,
   "id": "ca22c353-80ed-478a-b72e-8b1ae02f451d",
   "metadata": {},
   "outputs": [
    {
     "name": "stdout",
     "output_type": "stream",
     "text": [
      "Reversed order string is :  [1, 2, 4, 4, 5, 5, 6, 9, 33, 76, 78]\n"
     ]
    }
   ],
   "source": [
    "#Here I use reverse function in the list to reverse the list \n",
    "list1.reverse()\n",
    "#Here I use print function in the list to print the list\n",
    "print(\"Reversed order string is : \",list1)"
   ]
  },
  {
   "cell_type": "code",
   "execution_count": 59,
   "id": "ab6e103c-a648-4ff5-ba93-7060359831fe",
   "metadata": {},
   "outputs": [
    {
     "name": "stdout",
     "output_type": "stream",
     "text": [
      "[1, 2, 4, 4, 5, 5, 6, 9, 33, 76, 78]\n"
     ]
    }
   ],
   "source": [
    "#Here I use the sort function in the list to sort the value in the acending order\n",
    "list1.sort()\n",
    "#Here I use print function in the list to print the list as an output\n",
    "print(list1)"
   ]
  },
  {
   "cell_type": "code",
   "execution_count": 56,
   "id": "04d10bc5-eebd-43f5-8487-b992c919b8ea",
   "metadata": {},
   "outputs": [
    {
     "name": "stdout",
     "output_type": "stream",
     "text": [
      "[78, 76, 33, 9, 6, 5, 5, 4, 4, 2, 1]\n"
     ]
    }
   ],
   "source": [
    "#Here I use the sort function in the list to sort the value in the decending order and I pass reverse as true so that it will give the decending order\n",
    "list1.sort(reverse=True)\n",
    "#Here I use print function in the list to print the list as an output\n",
    "print(list1)"
   ]
  },
  {
   "cell_type": "code",
   "execution_count": 55,
   "id": "b58bab34-c5a3-483b-91dc-dd6089b1c0f7",
   "metadata": {},
   "outputs": [
    {
     "name": "stdout",
     "output_type": "stream",
     "text": [
      "List of even numbers:  [2, 4, 6, 8, 10, 12, 14, 16, 18, 20]\n"
     ]
    }
   ],
   "source": [
    "#Here I use for loop to itterate over a range from 2 to 21 over the difference of 2 so that I can get a even number\n",
    "#Here I use the list comprehension\n",
    "even_numbers = [x for x in range(2, 21, 2)]\n",
    "#Here I use the print function to print the even numbers\n",
    "print(\"List of even numbers: \",even_numbers)"
   ]
  },
  {
   "cell_type": "code",
   "execution_count": 47,
   "id": "30dfee8c-d3c6-453a-960c-3ae0df89a4da",
   "metadata": {},
   "outputs": [
    {
     "name": "stdout",
     "output_type": "stream",
     "text": [
      "List of odd numbers:  [1, 3, 5, 7, 9, 11, 13, 15, 17, 19]\n"
     ]
    }
   ],
   "source": [
    "#Here I use for loop to itterate over a range from 1 to 20 over the difference of 2 so that I can get a odd number\n",
    "#Here I use the list comprehension\n",
    "odd_numbers = [x for x in range(1, 20, 2)]\n",
    "#Here I use the print function to print the odd numbers\n",
    "print(\"List of odd numbers: \",odd_numbers)"
   ]
  },
  {
   "cell_type": "code",
   "execution_count": 54,
   "id": "eb930bf0-3933-4d81-947f-03f48d546d62",
   "metadata": {},
   "outputs": [
    {
     "data": {
      "text/plain": [
       "223"
      ]
     },
     "execution_count": 54,
     "metadata": {},
     "output_type": "execute_result"
    }
   ],
   "source": [
    "#Here I use the sum function so that I can get the sum of list1\n",
    "sum(list1)"
   ]
  },
  {
   "cell_type": "code",
   "execution_count": 52,
   "id": "8ce8d8cc-6426-4d95-ad85-9904002e2f4b",
   "metadata": {},
   "outputs": [
    {
     "data": {
      "text/plain": [
       "78"
      ]
     },
     "execution_count": 52,
     "metadata": {},
     "output_type": "execute_result"
    }
   ],
   "source": [
    "#Here I use max function  so that I can get the maximum value in the list\n",
    "max(list1)"
   ]
  },
  {
   "cell_type": "code",
   "execution_count": 53,
   "id": "a9eac6fc-90ca-40db-8a25-06b50e3fdf45",
   "metadata": {},
   "outputs": [
    {
     "data": {
      "text/plain": [
       "1"
      ]
     },
     "execution_count": 53,
     "metadata": {},
     "output_type": "execute_result"
    }
   ],
   "source": [
    "#Here I use min function  so that I can get the minimum value in the list\n",
    "min(list1)"
   ]
  },
  {
   "cell_type": "code",
   "execution_count": 3,
   "id": "0f18517d-c7f0-4de7-8604-52a2e729f560",
   "metadata": {},
   "outputs": [
    {
     "name": "stdout",
     "output_type": "stream",
     "text": [
      "[1, 4, 9, 16, 25, 36, 49, 64, 81, 100]\n"
     ]
    }
   ],
   "source": [
    "#Here I use list comprehension\n",
    "#Here I square the number and then using for loop in the range of 1 to 10. 11 will be excluded.\n",
    "square_of_num = [x ** 2 for x in range(1, 11)]\n",
    "#Here I use print function to print the value stored in variable\n",
    "print(square_of_num)"
   ]
  },
  {
   "cell_type": "code",
   "execution_count": 9,
   "id": "ed806648-4046-48f1-b625-7412f67e93bc",
   "metadata": {},
   "outputs": [],
   "source": [
    "#Here I created a list of random numbers.\n",
    "list3 = [1,3,4,56,6,7,8,8,9,76445,5225,75378663,2,55,42,26757,213,323212,42]"
   ]
  },
  {
   "cell_type": "code",
   "execution_count": 7,
   "id": "36f0eef0-9b0b-4f49-8749-e1eacc28d8f2",
   "metadata": {},
   "outputs": [
    {
     "name": "stdout",
     "output_type": "stream",
     "text": [
      "[1, 2, 3, 4, 26757, 6, 7, 8, 9, 5225, 75378663, 42, 323212, 213, 55, 56, 76445]\n"
     ]
    }
   ],
   "source": [
    "#Here I use type casting so that the duplicates can be removed\n",
    "#I converted the list into set and then again converted into list, since set does not store duplicates\n",
    "remove_duplicates=list(set(list3))\n",
    "#Here I simply print the list after removal of duplicates\n",
    "print(remove_duplicates)"
   ]
  },
  {
   "cell_type": "code",
   "execution_count": 13,
   "id": "6d7b8c6e-3386-4aac-9d0a-937ebb87925a",
   "metadata": {},
   "outputs": [
    {
     "name": "stdout",
     "output_type": "stream",
     "text": [
      "[1, 2, 4, 6, 9, 4]\n"
     ]
    }
   ],
   "source": [
    "#Here I use list comprehension\n",
    "#Here I use 2 lists that is list1 and list 3\n",
    "#Using for loop I itterate over the list1 and then try to match with the elements of the list3\n",
    "common_element = [x for x in list1 if x in list3]\n",
    "#Here I print the list\n",
    "print(common_element)"
   ]
  },
  {
   "cell_type": "code",
   "execution_count": 16,
   "id": "0671f30f-50bb-48e3-9586-6f870b653986",
   "metadata": {},
   "outputs": [
    {
     "name": "stdout",
     "output_type": "stream",
     "text": [
      "[33, 5, 76, 78]\n"
     ]
    }
   ],
   "source": [
    "#Here I use type casting since the difference function is available in set and not in list\n",
    "#After typecasting and having the difference, I converted it again in list\n",
    "difference_in_list = list(set(list1).difference(list3))\n",
    "#Here I simply printed value\n",
    "print(difference_in_list)"
   ]
  },
  {
   "cell_type": "code",
   "execution_count": 26,
   "id": "7125b5fd-f619-4daf-9eb3-71cb4f469401",
   "metadata": {},
   "outputs": [
    {
     "name": "stdout",
     "output_type": "stream",
     "text": [
      "[10, 20, 30, 40, 50, 60, 70]\n"
     ]
    }
   ],
   "source": [
    "#Here I take a new list\n",
    "list4 = [10,20,30,40]\n",
    "#Here I take a new list\n",
    "list5 = [50,60,70]\n",
    "#Here I add both the list and stored it in a variable\n",
    "merger_list = list4+list5\n",
    "#Here I simply printed the variable\n",
    "print(merger_list)"
   ]
  },
  {
   "cell_type": "code",
   "execution_count": 23,
   "id": "4339be92-cfda-4790-8ae9-096ff10a4b8d",
   "metadata": {},
   "outputs": [
    {
     "name": "stdout",
     "output_type": "stream",
     "text": [
      "[20, 40, 60, 80]\n"
     ]
    }
   ],
   "source": [
    "#Here I use the list comprehension\n",
    "#Here I multiply all the elements of list by 2 using for loop\n",
    "multiplyed_value = [x*2 for x in list4]\n",
    "#Here I simply printed the value of variable\n",
    "print(multiplyed_value)"
   ]
  },
  {
   "cell_type": "code",
   "execution_count": 29,
   "id": "bd33bd94-26b5-452f-89dd-c5450f825b65",
   "metadata": {},
   "outputs": [
    {
     "name": "stdout",
     "output_type": "stream",
     "text": [
      "[4, 56, 6, 8, 8, 2, 42, 323212, 42]\n"
     ]
    }
   ],
   "source": [
    "#Here I use list comperhension\n",
    "#Here I use for loop to itterate over the list3 and using the 'if' statement I found that if the number is fully divisible by 2 then that number is even number\n",
    "even_num_list = [x for x in list3 if x%2==0]\n",
    "#Here I simply printed the value of a variable\n",
    "print(even_num_list)"
   ]
  },
  {
   "cell_type": "code",
   "execution_count": 31,
   "id": "d20add6c-546f-48db-8ebc-76f7eb5cc8d0",
   "metadata": {},
   "outputs": [
    {
     "name": "stdout",
     "output_type": "stream",
     "text": [
      "[10, 20, 30, 40]\n"
     ]
    }
   ],
   "source": [
    "#Here I take a new list6\n",
    "list6 = [\"10\",\"20\",\"30\",\"40\"]\n",
    "#Here using for loop I itterate over a list of elements and then typecast them into integers\n",
    "list_of_int= [int(x) for x in list6]\n",
    "#Here I simply printed the variable\n",
    "print(list_of_int)"
   ]
  },
  {
   "cell_type": "code",
   "execution_count": 21,
   "id": "a3e630c2-4a88-4d83-91f8-694fadfa70a3",
   "metadata": {},
   "outputs": [
    {
     "name": "stdout",
     "output_type": "stream",
     "text": [
      "['10', '20', '30', '40']\n"
     ]
    }
   ],
   "source": [
    "#Here I take a new list7\n",
    "list7 = [10,20,30,40]\n",
    "#Here using for loop I itterate over a list of elements and then typecast them into string\n",
    "list_of_str= [str(x) for x in list7]\n",
    "#Here I simply printed the variable\n",
    "print(list_of_str)"
   ]
  },
  {
   "cell_type": "code",
   "execution_count": 1,
   "id": "e60d65a3-547f-47c9-9181-4b95744e0e1b",
   "metadata": {},
   "outputs": [
    {
     "name": "stdout",
     "output_type": "stream",
     "text": [
      "Flattened list: [1, 2, 3, 4, 5, 6, 7, 8, 9]\n"
     ]
    }
   ],
   "source": [
    "# Example nested list\n",
    "list8 = [[1, 2, 3], [4, 5], [6, 7, 8, 9]]\n",
    "\n",
    "# Function to flatten a nested list\n",
    "def flatten_list(nested):\n",
    "    flattened = []\n",
    "    for sublist in nested:\n",
    "        if isinstance(sublist, list):\n",
    "            flattened.extend(flatten_list(sublist))\n",
    "        else:\n",
    "            flattened.append(sublist)\n",
    "    return flattened\n",
    "\n",
    "# Flatten the nested list\n",
    "flattened_list = flatten_list(list8)\n",
    "\n",
    "# Print the flattened list\n",
    "print(\"Flattened list:\", flattened_list)"
   ]
  },
  {
   "cell_type": "code",
   "execution_count": 7,
   "id": "6b7076e7-8235-4a58-b40b-e8a5a582d1f5",
   "metadata": {},
   "outputs": [
    {
     "name": "stdout",
     "output_type": "stream",
     "text": [
      "First 10 Fibonacci numbers: [0, 1, 1, 2, 3, 5, 8, 13, 21, 34]\n"
     ]
    }
   ],
   "source": [
    "# Function to generate the first n Fibonacci numbers\n",
    "def generate_fibonacci(n):\n",
    "    # Initialize the list with the first two Fibonacci numbers\n",
    "    fibonacci_list = [0, 1]\n",
    "\n",
    "    for i in range(2, n):\n",
    "        next_fibonacci = fibonacci_list[i - 1] + fibonacci_list[i - 2]\n",
    "        fibonacci_list.append(next_fibonacci)\n",
    "\n",
    "    return fibonacci_list\n",
    "\n",
    "# Generate the first 10 Fibonacci numbers\n",
    "fibonacci_numbers = generate_fibonacci(10)\n",
    "\n",
    "# Print the list of Fibonacci numbers\n",
    "print(\"First 10 Fibonacci numbers:\", fibonacci_numbers)"
   ]
  },
  {
   "cell_type": "code",
   "execution_count": 11,
   "id": "f9b0f5d8-49d5-4e9c-ab73-f92dbea8c5ff",
   "metadata": {},
   "outputs": [
    {
     "name": "stdout",
     "output_type": "stream",
     "text": [
      "The list is not sorted.\n"
     ]
    }
   ],
   "source": [
    "# Function to check if a list is sorted in ascending order\n",
    "def is_sorted_ascending(lst):\n",
    "    for i in range(1, len(lst)):\n",
    "        if lst[i] < lst[i - 1]:\n",
    "            return False\n",
    "    return True\n",
    "\n",
    "# Check if the list is sorted in ascending order\n",
    "if is_sorted_ascending(list3):\n",
    "    print(\"The list is sorted.\")\n",
    "else:\n",
    "    print(\"The list is not sorted.\")"
   ]
  },
  {
   "cell_type": "code",
   "execution_count": 13,
   "id": "6ebb863d-4627-450a-80d2-2e013025ffb3",
   "metadata": {},
   "outputs": [
    {
     "name": "stdout",
     "output_type": "stream",
     "text": [
      "Rotated list: [2, 3, 4, 5, 6, 1]\n"
     ]
    }
   ],
   "source": [
    "# Function to rotate a list to the left by n positions\n",
    "def rotate_left(lst, n):\n",
    "    # Normalize n to handle cases where n is larger than the list length\n",
    "    n = n % len(lst)\n",
    "    rotated = lst[n:] + lst[:n]\n",
    "    return rotated\n",
    "\n",
    "# Example list\n",
    "my_list = [1, 2, 3, 4, 5, 6]\n",
    "\n",
    "# Number of positions to rotate by\n",
    "n = 1\n",
    "\n",
    "# Rotate the list to the left by n positions\n",
    "rotated_list = rotate_left(my_list, n)\n",
    "\n",
    "# Print the rotated list\n",
    "print(\"Rotated list:\", rotated_list)"
   ]
  },
  {
   "cell_type": "code",
   "execution_count": 17,
   "id": "e92c4f08-9d91-47f4-b3f8-b77972d2185c",
   "metadata": {},
   "outputs": [
    {
     "name": "stdout",
     "output_type": "stream",
     "text": [
      "Rotated list: [6, 1, 2, 3, 4, 5]\n"
     ]
    }
   ],
   "source": [
    "# Function to rotate a list to the right by n positions\n",
    "def rotate_right(lst, n):\n",
    "    # Normalize n to handle cases where n is larger than the list length\n",
    "    n = n % len(lst)\n",
    "    rotated = lst[-n:] + lst[:-n]\n",
    "    return rotated\n",
    "\n",
    "# Example list\n",
    "my_list = [1, 2, 3, 4, 5, 6]\n",
    "\n",
    "# Number of positions to rotate by\n",
    "n = 1\n",
    "\n",
    "# Rotate the list to the right by n positions\n",
    "rotated_list = rotate_right(my_list, n)\n",
    "\n",
    "# Print the rotated list\n",
    "print(\"Rotated list:\", rotated_list)"
   ]
  },
  {
   "cell_type": "code",
   "execution_count": 3,
   "id": "ded64236-5313-4661-990a-a5d62f8c6d58",
   "metadata": {},
   "outputs": [
    {
     "name": "stdout",
     "output_type": "stream",
     "text": [
      "[2, 3, 5, 7, 11, 13, 17, 19, 23, 29, 31, 37, 41, 43, 47]\n"
     ]
    }
   ],
   "source": [
    "# Define a function to check if a number is prime\n",
    "def is_prime(n):\n",
    "  # If n is less than 2, it is not prime\n",
    "  if n < 2:\n",
    "    return False\n",
    "  # Loop from 2 to the square root of n\n",
    "  for i in range(2, int(n**0.5) + 1):\n",
    "    # If n is divisible by i, it is not prime\n",
    "    if n % i == 0:\n",
    "      return False\n",
    "  # If none of the above, it is prime\n",
    "  return True\n",
    "\n",
    "# Create an empty list to store the prime numbers\n",
    "prime_list = []\n",
    "\n",
    "# Loop from 2 to 50\n",
    "for j in range(2, 51):\n",
    "  # If j is prime, append it to the list\n",
    "  if is_prime(j):\n",
    "    prime_list.append(j)\n",
    "\n",
    "# Print the list of prime numbers\n",
    "print(prime_list)"
   ]
  },
  {
   "cell_type": "code",
   "execution_count": 4,
   "id": "ae0cc61c-459e-49e9-8c36-33afcfe4ecc6",
   "metadata": {},
   "outputs": [
    {
     "name": "stdout",
     "output_type": "stream",
     "text": [
      "Second largest number: 30\n"
     ]
    }
   ],
   "source": [
    "#Here check the length of the list and check weather it is greater than or equal to 2\n",
    "if len(list7) >= 2:\n",
    "    #Here I check the second largest number in the list\n",
    "    second_largest = list7[-2]\n",
    "    #Here I simply print the largest number in the list\n",
    "    print(\"Second largest number:\", second_largest)"
   ]
  },
  {
   "cell_type": "code",
   "execution_count": 5,
   "id": "a2256243-c1fa-43cc-9600-24fe15d063a2",
   "metadata": {},
   "outputs": [
    {
     "name": "stdout",
     "output_type": "stream",
     "text": [
      "[100, 400, 900, 1600]\n"
     ]
    }
   ],
   "source": [
    "#Here I use list comprehension\n",
    "#Here I loop over a list and square each element of a list\n",
    "element_square = [x**2 for x in list7]\n",
    "#Here I simply print the list\n",
    "print(element_square)"
   ]
  },
  {
   "cell_type": "code",
   "execution_count": 9,
   "id": "6b6681a8-ad41-4271-8291-55760147b05f",
   "metadata": {},
   "outputs": [
    {
     "name": "stdout",
     "output_type": "stream",
     "text": [
      "{10: 0, 20: 1, 30: 2, 40: 3}\n"
     ]
    }
   ],
   "source": [
    "#Here I use dictionary comperhension\n",
    "converted_dict = {element: index for index, element in enumerate(list7)}\n",
    "#Here I simply printed the variable\n",
    "print(converted_dict)"
   ]
  },
  {
   "cell_type": "code",
   "execution_count": 12,
   "id": "8ea7ca5f-f59c-4efe-ad95-c7c677f116be",
   "metadata": {},
   "outputs": [
    {
     "name": "stdout",
     "output_type": "stream",
     "text": [
      "Shuffle elements :  [10, 40, 30, 20]\n"
     ]
    }
   ],
   "source": [
    "#Here I import the library called random\n",
    "import random\n",
    "#Here I use shuffle function in random and shuffle the list\n",
    "random.shuffle(list7)\n",
    "#Here I simply printed the list\n",
    "print(\"Shuffle elements : \",list7)"
   ]
  },
  {
   "cell_type": "code",
   "execution_count": 19,
   "id": "e3881087-ba9b-4b96-a671-48b02bd6c23a",
   "metadata": {},
   "outputs": [
    {
     "name": "stdout",
     "output_type": "stream",
     "text": [
      "[0, 0, 2, 6, 12, 20, 30, 42, 56, 72]\n"
     ]
    }
   ],
   "source": [
    "# Function to calculate factorial\n",
    "def factorial(n):\n",
    "    if n == 0 or n == 1:\n",
    "        return 1\n",
    "    else:\n",
    "        return n * factorial(n - 1)\n",
    "# Create a list of the first 10 factorial numbers\n",
    "factorial_numbers = [factorial(i) for i in range(10)]\n",
    "# Print the list of factorial numbers\n",
    "print(\"List of the first 10 factorial numbers:\", factorial_numbers)"
   ]
  },
  {
   "cell_type": "code",
   "execution_count": 32,
   "id": "362490c0-37aa-48ea-996f-a3d95be4979e",
   "metadata": {},
   "outputs": [
    {
     "name": "stdout",
     "output_type": "stream",
     "text": [
      "The lists have at least one common element.\n"
     ]
    }
   ],
   "source": [
    "# Function to check if two lists have at least one element in common\n",
    "def has_common_element(list4, list7):\n",
    "    for item in list4:\n",
    "        if item in list7:\n",
    "            return True\n",
    "    return False\n",
    "# Check if the two lists have at least one element in common\n",
    "if has_common_element(list4, list7):\n",
    "    print(\"The lists have at least one common element.\")\n",
    "else:\n",
    "    print(\"The lists do not have any common elements.\")"
   ]
  },
  {
   "cell_type": "code",
   "execution_count": 34,
   "id": "0e2781c0-39c9-4650-ad02-9487391e1688",
   "metadata": {},
   "outputs": [
    {
     "name": "stdout",
     "output_type": "stream",
     "text": [
      "[]\n"
     ]
    }
   ],
   "source": [
    "#Here I use the clear function in the list to remove all the elements from the list\n",
    "list4.clear()\n",
    "#Here I simply print the list\n",
    "print(list4)"
   ]
  },
  {
   "cell_type": "code",
   "execution_count": 40,
   "id": "10a28dfc-a4d2-4b71-b7f9-4f8d87b754f5",
   "metadata": {},
   "outputs": [
    {
     "name": "stdout",
     "output_type": "stream",
     "text": [
      "[0, 2, 3, 4, 5, 67, 0, 0, 0]\n"
     ]
    }
   ],
   "source": [
    "#Here I take a list with some negative numbers\n",
    "list4 = [-1,2,3,4,5,67,-4,-5,-23]\n",
    "#Here I use for loop to know the length of the list\n",
    "for i in range(len(list4)):\n",
    "    #Here I check the condition that if element is smaller than 0\n",
    "    if list4[i] < 0:\n",
    "        #If the element is smaller than 0 then it will be replaced by 0\n",
    "        list4[i] = 0\n",
    "#Here I simply print the list        \n",
    "print(list4)        "
   ]
  },
  {
   "cell_type": "code",
   "execution_count": 39,
   "id": "d299b7f0-efa3-4002-a156-528f2280aca0",
   "metadata": {},
   "outputs": [
    {
     "name": "stdout",
     "output_type": "stream",
     "text": [
      "['My', 'name', 'is', 'Harshwardhan']\n"
     ]
    }
   ],
   "source": [
    "#Here I take a string\n",
    "String1 = \"My name is Harshwardhan\"\n",
    "#Here I use split function to split the list into words\n",
    "converted_string = String1.split()\n",
    "#Here I simply printed the string\n",
    "print(converted_string)"
   ]
  },
  {
   "cell_type": "code",
   "execution_count": 43,
   "id": "b2b4661e-364a-4ddc-96bf-a5c5ee1ee69a",
   "metadata": {},
   "outputs": [
    {
     "name": "stdout",
     "output_type": "stream",
     "text": [
      "My name is Harshwardhan\n"
     ]
    }
   ],
   "source": [
    "#Here I take a list\n",
    "list8 = ['My', 'name', 'is', 'Harshwardhan']\n",
    "#Here I use join function to join the list with space as well\n",
    "converted_list = \" \".join(list8)\n",
    "#Here I simply printed the variable\n",
    "print(converted_list)"
   ]
  },
  {
   "cell_type": "code",
   "execution_count": 44,
   "id": "1f6d5b93-9e4f-4862-b3ac-d025d50427cc",
   "metadata": {},
   "outputs": [
    {
     "name": "stdout",
     "output_type": "stream",
     "text": [
      "[1, 2, 4, 8, 16]\n"
     ]
    }
   ],
   "source": [
    "# Here I specify the value of n\n",
    "n = 5\n",
    "#Here I create a list of the first n powers of 2 using a loop\n",
    "power_list = [2 ** i for i in range(n)]\n",
    "#Here I simply print the list of powers of 2\n",
    "print(power_list)"
   ]
  },
  {
   "cell_type": "code",
   "execution_count": 46,
   "id": "b7203340-333a-4b45-8d11-795a1219dbe9",
   "metadata": {},
   "outputs": [
    {
     "name": "stdout",
     "output_type": "stream",
     "text": [
      "Longest string: Harshwardhan\n"
     ]
    }
   ],
   "source": [
    "#Here I find the longest string in the list\n",
    "longest_string = \"\"\n",
    "#Using for loop I itterate over the a list\n",
    "for i in list8:\n",
    "    #Here I check for the length of the string\n",
    "    if len(i) > len(longest_string):\n",
    "        longest_string = i\n",
    "# Print the longest string\n",
    "print(\"Longest string:\", longest_string)"
   ]
  },
  {
   "cell_type": "code",
   "execution_count": 50,
   "id": "79ba9c7d-f474-4a4c-b4b6-f974fff3e689",
   "metadata": {},
   "outputs": [
    {
     "name": "stdout",
     "output_type": "stream",
     "text": [
      "Shortest string: My\n"
     ]
    }
   ],
   "source": [
    "#Here I Initialize with the first string\n",
    "shortest_string = list8[0]\n",
    "#Using for loop I itterate over the a list\n",
    "for s in list8:\n",
    "    #Here I check for the length of the string\n",
    "    if len(s) < len(shortest_string):\n",
    "        shortest_string = s\n",
    "# Print the shortest string\n",
    "print(\"Shortest string:\", shortest_string)"
   ]
  },
  {
   "cell_type": "code",
   "execution_count": 51,
   "id": "bfae4eec-868b-4f12-b3dc-c7f70283fa17",
   "metadata": {},
   "outputs": [
    {
     "name": "stdout",
     "output_type": "stream",
     "text": [
      "List of the first 5 triangular numbers: [1, 3, 6, 10, 15]\n"
     ]
    }
   ],
   "source": [
    "# Function to calculate triangular numbers\n",
    "def triangular_numbers(n):\n",
    "    return [i * (i + 1) // 2 for i in range(1, n + 1)]\n",
    "\n",
    "# Specify the value of n\n",
    "n = 5\n",
    "\n",
    "# Create a list of the first n triangular numbers\n",
    "triangular_list = triangular_numbers(n)\n",
    "\n",
    "# Print the list of triangular numbers\n",
    "print(\"List of the first\", n, \"triangular numbers:\", triangular_list)"
   ]
  },
  {
   "cell_type": "code",
   "execution_count": 52,
   "id": "6f3b8305-5d86-4533-8929-11579e5f3872",
   "metadata": {},
   "outputs": [
    {
     "name": "stdout",
     "output_type": "stream",
     "text": [
      "Main list contains the subsequence.\n"
     ]
    }
   ],
   "source": [
    "# Function to check if a list contains another list as a subsequence\n",
    "def is_subsequence(subsequence, main_list):\n",
    "    subseq_index = 0  # Index for the subsequence elements\n",
    "    for element in main_list:\n",
    "        if element == subsequence[subseq_index]:\n",
    "            subseq_index += 1\n",
    "            if subseq_index == len(subsequence):\n",
    "                return True\n",
    "    return False\n",
    "\n",
    "# Example main list and subsequence\n",
    "main_list = [1, 2, 3, 4, 5, 6, 7, 8, 9, 10]\n",
    "subsequence = [3, 5, 8]\n",
    "\n",
    "# Check if the main list contains the subsequence\n",
    "if is_subsequence(subsequence, main_list):\n",
    "    print(\"Main list contains the subsequence.\")\n",
    "else:\n",
    "    print(\"Main list does not contain the subsequence.\")"
   ]
  },
  {
   "cell_type": "code",
   "execution_count": 36,
   "id": "e46ac9d3-9b1f-4097-95a0-0f29bd15c48d",
   "metadata": {},
   "outputs": [
    {
     "name": "stdout",
     "output_type": "stream",
     "text": [
      "List after swapping elements: [1, 4, 3, 2, 5]\n"
     ]
    }
   ],
   "source": [
    "# Example list\n",
    "my_list = [1, 2, 3, 4, 5]\n",
    "\n",
    "# Indices of elements to swap\n",
    "index1 = 1\n",
    "index2 = 3\n",
    "\n",
    "# Swap the elements at the specified indices\n",
    "temp = my_list[index1]\n",
    "my_list[index1] = my_list[index2]\n",
    "my_list[index2] = temp\n",
    "\n",
    "# Print the list after swapping\n",
    "print(\"List after swapping elements:\", my_list)"
   ]
  },
  {
   "cell_type": "code",
   "execution_count": 14,
   "id": "9ec66272-8f36-4526-a5b2-a974c1a6132c",
   "metadata": {},
   "outputs": [
    {
     "data": {
      "text/plain": [
       "tuple"
      ]
     },
     "execution_count": 14,
     "metadata": {},
     "output_type": "execute_result"
    }
   ],
   "source": [
    "#Here I created the Tuple with integer 1 to 5\n",
    "tuple1=(1,2,3,4,5,3)\n",
    "#Here I check the type\n",
    "type(tuple1)"
   ]
  },
  {
   "cell_type": "code",
   "execution_count": 6,
   "id": "9cdda028-9db6-47d2-a95e-02b15fc6423f",
   "metadata": {},
   "outputs": [
    {
     "name": "stdout",
     "output_type": "stream",
     "text": [
      "3\n"
     ]
    }
   ],
   "source": [
    "#Here I access the 3rd element of tuple, Since tuple is immutable I try to fetch using the index value\n",
    "third_element = tuple1[2]\n",
    "#Here I simply printed the variable\n",
    "print(third_element)"
   ]
  },
  {
   "cell_type": "code",
   "execution_count": 9,
   "id": "d7841aa3-0a4c-4d43-a02e-221df42cf84b",
   "metadata": {},
   "outputs": [
    {
     "name": "stdout",
     "output_type": "stream",
     "text": [
      "5\n"
     ]
    }
   ],
   "source": [
    "#Here I take a variable\n",
    "count = 0\n",
    "#Using for loop I itterate over a tuple and I increase the count by 1 everytime\n",
    "for i in tuple1:\n",
    "    count = count + 1\n",
    "#Here I simply printed a variable\n",
    "print(count)    "
   ]
  },
  {
   "cell_type": "code",
   "execution_count": 16,
   "id": "c1933ab7-8a4e-45c1-8641-59f3d71016f5",
   "metadata": {},
   "outputs": [
    {
     "name": "stdout",
     "output_type": "stream",
     "text": [
      "2\n"
     ]
    }
   ],
   "source": [
    "#Here I declared variable to be checked in the tuple\n",
    "var1 = 3\n",
    "#Here I take another variable to give the occurences of an element\n",
    "count1 = 0\n",
    "#Here I use for loop to itterate over a tuple\n",
    "for i in tuple1:\n",
    "    #If the element match then the count will be increase by 1\n",
    "    if i == var1:\n",
    "        count1 = count1 + 1\n",
    "#Here I simply print the variable        \n",
    "print(count1)    "
   ]
  },
  {
   "cell_type": "code",
   "execution_count": 19,
   "id": "0e9386dc-f7e5-43fa-b8b1-1927091225c0",
   "metadata": {},
   "outputs": [
    {
     "data": {
      "text/plain": [
       "2"
      ]
     },
     "execution_count": 19,
     "metadata": {},
     "output_type": "execute_result"
    }
   ],
   "source": [
    "#Here I use index function to find the index of the given number\n",
    "tuple1.index(3)"
   ]
  },
  {
   "cell_type": "code",
   "execution_count": 29,
   "id": "da9df228-4cb8-4134-9dd6-f585ca58afba",
   "metadata": {},
   "outputs": [
    {
     "name": "stdout",
     "output_type": "stream",
     "text": [
      "Element present in the tuple\n"
     ]
    }
   ],
   "source": [
    "#Here I take a element to check in the tuple\n",
    "var2 = 4\n",
    "#Here I check that element is present in tuple or not\n",
    "if var2 in tuple1:\n",
    "    print(\"Element present in the tuple\")\n",
    "#If that element is not present in tuple then it will print else part    \n",
    "else:\n",
    "    print(\"Element not present in the tuple\")"
   ]
  },
  {
   "cell_type": "code",
   "execution_count": 35,
   "id": "1d416f7f-39b5-416c-82f5-0d7709bc9775",
   "metadata": {},
   "outputs": [
    {
     "name": "stdout",
     "output_type": "stream",
     "text": [
      "[1, 2, 3, 4, 5, 3]\n"
     ]
    }
   ],
   "source": [
    "#Here I type cast the tuple and convert it into a list\n",
    "converted_list = list(tuple1)\n",
    "#Here I simply printed the variable\n",
    "print(converted_list)"
   ]
  },
  {
   "cell_type": "code",
   "execution_count": 38,
   "id": "6d8dc659-ccb9-4e7e-98e3-48253570b273",
   "metadata": {},
   "outputs": [
    {
     "name": "stdout",
     "output_type": "stream",
     "text": [
      "(1, 4, 3, 2, 5)\n"
     ]
    }
   ],
   "source": [
    "#Here I type cast the list and convert it into a tuple\n",
    "converted_tuple = tuple(my_list)\n",
    "#Here I simply printed a variable\n",
    "print(converted_tuple)"
   ]
  },
  {
   "cell_type": "code",
   "execution_count": 40,
   "id": "b9ece03f-e87a-4c0c-8b68-aa130f2cdaef",
   "metadata": {},
   "outputs": [
    {
     "name": "stdout",
     "output_type": "stream",
     "text": [
      "1\n",
      "2\n",
      "3\n",
      "4\n",
      "5\n",
      "3\n"
     ]
    }
   ],
   "source": [
    "#Here I use for loop to unpack the elements of the tuple\n",
    "for i in tuple1:\n",
    "    #Here I simply printed the value of i\n",
    "    print(i)"
   ]
  },
  {
   "cell_type": "code",
   "execution_count": 44,
   "id": "fb275ad0-ea95-4813-bf95-6b391d5be426",
   "metadata": {},
   "outputs": [
    {
     "name": "stdout",
     "output_type": "stream",
     "text": [
      "(2, 4, 6, 8, 10)\n"
     ]
    }
   ],
   "source": [
    "#Here I use list comprehension as above solved\n",
    "#Then I use type casting and convert it into a tuple\n",
    "even_num = tuple([i for i in range(2,11) if i%2==0])\n",
    "#Here I simply print a variable\n",
    "print(even_num)"
   ]
  },
  {
   "cell_type": "code",
   "execution_count": 45,
   "id": "87e9e8db-7ceb-4c08-b5ca-63f0199805de",
   "metadata": {},
   "outputs": [
    {
     "name": "stdout",
     "output_type": "stream",
     "text": [
      "(1, 3, 5, 7, 9)\n"
     ]
    }
   ],
   "source": [
    "#Here I use list comprehension as above solved\n",
    "#Then I use type casting and convert it into a tuple\n",
    "odd_num = tuple([i for i in range(1,10) if i%2!=0])\n",
    "#Here I simply print a variable\n",
    "print(odd_num)"
   ]
  },
  {
   "cell_type": "code",
   "execution_count": 4,
   "id": "39b967cb-f482-4458-9604-d1c0f719705c",
   "metadata": {},
   "outputs": [
    {
     "name": "stdout",
     "output_type": "stream",
     "text": [
      "(10, 20, 30, 40, 3, 4, 5, 6, 7, 9, 57, 47, 89, 60, 70, 80, 90)\n"
     ]
    }
   ],
   "source": [
    "#Here I declared a new tuple\n",
    "tuple2 = (10,20,30,40,3,4,5,6,7,9,57,47,89)\n",
    "#Here I declared a new tuple\n",
    "tuple3 = (60,70,80,90)\n",
    "#Here I concatenate 2 tuples and stored it in a new variable\n",
    "Concat_tuple = tuple2 +tuple3\n",
    "#Here I simply printed a variable\n",
    "print(Concat_tuple)"
   ]
  },
  {
   "cell_type": "code",
   "execution_count": 50,
   "id": "7d028710-f178-4857-8aae-5f43a365cf91",
   "metadata": {},
   "outputs": [
    {
     "name": "stdout",
     "output_type": "stream",
     "text": [
      "(60, 70, 80, 60, 70, 80, 60, 70, 80)\n"
     ]
    }
   ],
   "source": [
    "#Here I repeat a tuple 3 times and stored it new variable\n",
    "repeat_tuple = tuple3*3\n",
    "#Here I simple printed a variable\n",
    "print(repeat_tuple)"
   ]
  },
  {
   "cell_type": "code",
   "execution_count": 52,
   "id": "09c0ee19-8b6f-4b26-abcf-64f37d172bc0",
   "metadata": {},
   "outputs": [
    {
     "name": "stdout",
     "output_type": "stream",
     "text": [
      "tuple3 is not empty\n"
     ]
    }
   ],
   "source": [
    "#Here use if else statement I check weather the tuple is empty or not\n",
    "if not tuple3:\n",
    "    #Here I print if the tuple is empty\n",
    "    print(\"tuple3 is empty\")\n",
    "else:\n",
    "    #Here I print if the tuple is not empty\n",
    "    print(\"tuple3 is not empty\")"
   ]
  },
  {
   "cell_type": "code",
   "execution_count": 54,
   "id": "d8f46de3-2c2b-4fc0-ad76-306df592bc29",
   "metadata": {},
   "outputs": [],
   "source": [
    "#Here I created a nested tuple\n",
    "tuple4 = (1,2,3,(4,5,6))"
   ]
  },
  {
   "cell_type": "code",
   "execution_count": 56,
   "id": "ab16f433-89a9-4de6-8cc7-f51e45c0a49b",
   "metadata": {},
   "outputs": [
    {
     "name": "stdout",
     "output_type": "stream",
     "text": [
      "1\n"
     ]
    }
   ],
   "source": [
    "#Here I access the firt element in the nested tuple using index value\n",
    "access_first = tuple4[0]\n",
    "#Here I simply printed the variable\n",
    "print(access_first)"
   ]
  },
  {
   "cell_type": "code",
   "execution_count": 63,
   "id": "190f31d5-1bbe-4677-9be3-39ee0bbc38ae",
   "metadata": {},
   "outputs": [
    {
     "name": "stdout",
     "output_type": "stream",
     "text": [
      "(69,)\n"
     ]
    }
   ],
   "source": [
    "#Here I created a tuple with single element\n",
    "tuple5=(69,)\n",
    "print(tuple5)"
   ]
  },
  {
   "cell_type": "code",
   "execution_count": 64,
   "id": "61ba40e4-2182-4a99-845a-6cb42dfbecaf",
   "metadata": {},
   "outputs": [
    {
     "name": "stdout",
     "output_type": "stream",
     "text": [
      "tuple1 == tuple2: False\n",
      "tuple1 != tuple2: True\n",
      "tuple1 < tuple2: True\n",
      "tuple1 <= tuple2: True\n",
      "tuple1 > tuple2: False\n",
      "tuple1 >= tuple2: False\n"
     ]
    }
   ],
   "source": [
    "#Here I Compare the two tuples using comparison operators\n",
    "# Equality check\n",
    "print(\"tuple1 == tuple2:\", tuple2 == tuple3)\n",
    "# Inequality check\n",
    "print(\"tuple1 != tuple2:\", tuple2 != tuple3)\n",
    "# Less than check\n",
    "print(\"tuple1 < tuple2:\", tuple2 < tuple3)\n",
    "# Less than or equal to check\n",
    "print(\"tuple1 <= tuple2:\", tuple2 <= tuple3)\n",
    "# Greater than check\n",
    "print(\"tuple1 > tuple2:\", tuple2 > tuple3)\n",
    "# Greater than or equal to check\n",
    "print(\"tuple1 >= tuple2:\", tuple2 >= tuple3)"
   ]
  },
  {
   "cell_type": "code",
   "execution_count": 96,
   "id": "8773607a-dd2b-4010-8452-a9fc87bf7f1f",
   "metadata": {},
   "outputs": [],
   "source": [
    "#Here I created a tuple\n",
    "tuple6 = (43,5,546,56,57,34)\n",
    "#Here I use del function to delete a tuple named tuple 6\n",
    "del tuple6\n",
    "#Here I simply print a variable\n",
    "print(tuple6)"
   ]
  },
  {
   "cell_type": "code",
   "execution_count": 68,
   "id": "0dff2fdc-aee0-4ac4-805a-3c6d66f2465b",
   "metadata": {},
   "outputs": [
    {
     "name": "stdout",
     "output_type": "stream",
     "text": [
      "(3, 4, 5)\n"
     ]
    }
   ],
   "source": [
    "#Here I sliced a tuple using slicing method [first element is the index to start, second element is ene but excluded]\n",
    "tuple_slice = tuple1[2:5]\n",
    "#Here I simply printed a variable\n",
    "print(tuple_slice)"
   ]
  },
  {
   "cell_type": "code",
   "execution_count": 71,
   "id": "bee9ad20-64c7-4047-9c02-a46e9f224b6c",
   "metadata": {},
   "outputs": [
    {
     "name": "stdout",
     "output_type": "stream",
     "text": [
      "5\n"
     ]
    }
   ],
   "source": [
    "#Here I use Max function to find the maximum value in tuple\n",
    "max_value = max(tuple1)\n",
    "#Here I simply print a variable\n",
    "print(max_value)"
   ]
  },
  {
   "cell_type": "code",
   "execution_count": 72,
   "id": "b8f79a5e-7b23-4f1e-a590-2e32cd2edfd9",
   "metadata": {},
   "outputs": [
    {
     "name": "stdout",
     "output_type": "stream",
     "text": [
      "1\n"
     ]
    }
   ],
   "source": [
    "#Here I use Min function to find the minimum value in tuple\n",
    "min_value = min(tuple1)\n",
    "#Here I simply print a variable\n",
    "print(min_value)"
   ]
  },
  {
   "cell_type": "code",
   "execution_count": 81,
   "id": "d7b02549-72c3-46a6-874e-0d488af742a7",
   "metadata": {},
   "outputs": [
    {
     "name": "stdout",
     "output_type": "stream",
     "text": [
      "('H', 'a', 'r', 's', 'h', 'w', 'a', 'r', 'd', 'h', 'a', 'n')\n"
     ]
    }
   ],
   "source": [
    "#Here I declared a string\n",
    "str2 = \"Harshwardhan\"\n",
    "#Here I typecast a string and converted into a tuple\n",
    "converted_tuple = tuple(str2)\n",
    "#Here I simply printed a variable\n",
    "print(converted_tuple)"
   ]
  },
  {
   "cell_type": "code",
   "execution_count": 85,
   "id": "633f5a5f-a8b3-4e45-a98f-9aff31fbbda5",
   "metadata": {},
   "outputs": [
    {
     "name": "stdout",
     "output_type": "stream",
     "text": [
      "Wankhede\n"
     ]
    }
   ],
   "source": [
    "#Here I take a tuple to be converted\n",
    "tuple7 = ('W', 'a', 'n', 'k', 'h', 'e', 'd', 'e')\n",
    "#Here I join the character using join function\n",
    "converted_str = ''.join(tuple7)\n",
    "#Here I simply print a variable\n",
    "print(converted_str)"
   ]
  },
  {
   "cell_type": "code",
   "execution_count": 87,
   "id": "1f8c8d85-9418-4d22-8792-8bac0fdd85a1",
   "metadata": {},
   "outputs": [],
   "source": [
    "#Here I created a tuple with multiple data types\n",
    "tuple_multiple_data_type = (1,3.14,True,\"wankhede\")"
   ]
  },
  {
   "cell_type": "code",
   "execution_count": 92,
   "id": "d883829a-25fa-4006-b60a-3c7a14df727b",
   "metadata": {},
   "outputs": [
    {
     "name": "stdout",
     "output_type": "stream",
     "text": [
      "Tuples are not identical\n"
     ]
    }
   ],
   "source": [
    "#Here using If else statement I check weather the tuple is equal to other tuple\n",
    "if tuple2==tuple3:\n",
    "    #Here I simply use print function\n",
    "    print(\"Tuples are identical\")\n",
    "else:\n",
    "    #Here I simply use print function\n",
    "    print(\"Tuples are not identical\")"
   ]
  },
  {
   "cell_type": "code",
   "execution_count": 9,
   "id": "c9b68ab9-8c83-46fa-81e7-2987ce3b5194",
   "metadata": {},
   "outputs": [
    {
     "name": "stdout",
     "output_type": "stream",
     "text": [
      "(5, 8, 34, 43, 67, 242, 325, 7562, 45564)\n"
     ]
    }
   ],
   "source": [
    "#Here I defined a new tuple\n",
    "tuple8 = (43,5,242,45564,7562,34,67,8,325)\n",
    "#Here I sorted a tuple using sorted and then typecast it to tuple\n",
    "sorted_tuple = tuple(sorted(tuple8))\n",
    "#Here I simply print a variable\n",
    "print(sorted_tuple)"
   ]
  },
  {
   "cell_type": "code",
   "execution_count": 100,
   "id": "0fc58b2d-5bcf-4569-ac7e-4f1662d59a7a",
   "metadata": {},
   "outputs": [
    {
     "name": "stdout",
     "output_type": "stream",
     "text": [
      "('43', '5', '546', '56', '57', '34')\n"
     ]
    }
   ],
   "source": [
    "#Here I use tuple comprehension\n",
    "#Here using for loop I itterate over a tuple and typecast every element in string then again typecast it to tuple\n",
    "converted_tuple_int = tuple((str(i) for i in tuple8))\n",
    "#Here i simply print a variable\n",
    "print(converted_tuple_int)"
   ]
  },
  {
   "cell_type": "code",
   "execution_count": 35,
   "id": "a28c5250-3247-4fd1-bad6-200cf6102cb2",
   "metadata": {},
   "outputs": [
    {
     "name": "stdout",
     "output_type": "stream",
     "text": [
      "(43, 5, 546, 56, 57, 34)\n"
     ]
    }
   ],
   "source": [
    "tuple9 = ('43', '5', '546', '56', '57', '34')\n",
    "converted_tuple_str = tuple((int(j) for j in tuple9))\n",
    "print(converted_tuple_str)"
   ]
  },
  {
   "cell_type": "code",
   "execution_count": 108,
   "id": "f57da5c9-10ea-4845-a570-775ddf9db500",
   "metadata": {},
   "outputs": [
    {
     "name": "stdout",
     "output_type": "stream",
     "text": [
      "(10, 20, 30, 40, 43, 5, 546, 56, 57, 34)\n"
     ]
    }
   ],
   "source": [
    "#Here I merge 2 tuple\n",
    "merge_tuple = tuple2 + tuple8\n",
    "#Here I simply print a variable\n",
    "print(merge_tuple)"
   ]
  },
  {
   "cell_type": "code",
   "execution_count": 1,
   "id": "eec69c0b-48d4-4b60-b0fd-34244f40640d",
   "metadata": {},
   "outputs": [
    {
     "name": "stdout",
     "output_type": "stream",
     "text": [
      "Flattened tuple: (1, 2, 3, 4, 5, 6, 7, 8)\n"
     ]
    }
   ],
   "source": [
    "##Here recursive function to flatten a nested tuple\n",
    "def flatten_tuple(nested_tuple):\n",
    "    flattened = []\n",
    "    for item in nested_tuple:\n",
    "        if isinstance(item, tuple):\n",
    "            flattened.extend(flatten_tuple(item))\n",
    "        else:\n",
    "            flattened.append(item)\n",
    "    return flattened\n",
    "#Here I create a nested tuple\n",
    "nested_tuple = ((1, 2), (3, 4, 5), (6, (7, 8)))\n",
    "#Here I flatten the nested tuple\n",
    "flattened_tuple = tuple(flatten_tuple(nested_tuple))\n",
    "#Here I print the flattened tuple\n",
    "print(\"Flattened tuple:\", flattened_tuple)"
   ]
  },
  {
   "cell_type": "code",
   "execution_count": 4,
   "id": "f7bc45cf-df0f-41f9-b980-ef4c2fae3f40",
   "metadata": {},
   "outputs": [
    {
     "name": "stdout",
     "output_type": "stream",
     "text": [
      "Tuple of the first 5 prime numbers: (2, 3, 5, 7, 11)\n"
     ]
    }
   ],
   "source": [
    "#Here the function to check if a number is prime\n",
    "def is_prime(num):\n",
    "    #Here number should not be smaller than 1\n",
    "    if num <= 1:\n",
    "        return False\n",
    "    #Here using for loop I check for the prime number\n",
    "    #Using tuple comprehension\n",
    "    for i in range(2, int(num ** 0.5) + 1):\n",
    "        if num % i == 0:\n",
    "            return False\n",
    "    return True\n",
    "\n",
    "#Here I generate the first 5 prime numbers\n",
    "prime_num = tuple([num for num in range(2, 100) if is_prime(num)][:5])\n",
    "#Here I print the prime numbers\n",
    "print(\"Tuple of the first 5 prime numbers:\", prime_num)"
   ]
  },
  {
   "cell_type": "code",
   "execution_count": 10,
   "id": "b204debb-59d8-4a8f-8534-e71f42dec8c5",
   "metadata": {},
   "outputs": [
    {
     "name": "stdout",
     "output_type": "stream",
     "text": [
      "THe tuple is not Palindrome\n"
     ]
    }
   ],
   "source": [
    "#Here I reversed the tuple and try to check with the same tuple, so that I get to know that the tuple is palindrome\n",
    "if tuple8[::-1]==tuple8:\n",
    "    #Here I simply print\n",
    "    print(\"The tuple is Palindrome\")\n",
    "#Here if the tuple is not panlindrome then the else part will get executed\n",
    "else:\n",
    "    #Here I simply print\n",
    "    print(\"THe tuple is not Palindrome\")"
   ]
  },
  {
   "cell_type": "code",
   "execution_count": 16,
   "id": "ee9c1df7-a668-4516-a0d3-165ea5e2b90a",
   "metadata": {},
   "outputs": [
    {
     "name": "stdout",
     "output_type": "stream",
     "text": [
      "(1, 4, 9, 16, 25)\n"
     ]
    }
   ],
   "source": [
    "#Here I use tuple comprehension\n",
    "#Using for loop in range I square each element\n",
    "square_tuple = tuple(x**2 for x in range(1,6))\n",
    "#Here I simply print variable\n",
    "print(square_tuple)"
   ]
  },
  {
   "cell_type": "code",
   "execution_count": 9,
   "id": "1c6e9bd8-9b9a-42b0-bc88-998d5a6227b1",
   "metadata": {},
   "outputs": [
    {
     "name": "stdout",
     "output_type": "stream",
     "text": [
      "(10, 20, 30, 40, 4, 6)\n"
     ]
    }
   ],
   "source": [
    "#Here I use tuple comprehension\n",
    "#Using for loop I itterate over tuple and using if statement I check that is it a even number\n",
    "even_num = tuple(x for x in tuple2 if x%2==0)\n",
    "#Here I simply print a variable\n",
    "print(even_num)"
   ]
  },
  {
   "cell_type": "code",
   "execution_count": 12,
   "id": "6b88c3f3-baaf-49e0-b70b-3296545eaff4",
   "metadata": {},
   "outputs": [
    {
     "name": "stdout",
     "output_type": "stream",
     "text": [
      "(20, 40, 60, 80, 6, 8, 10, 12, 14, 18, 114, 94, 178)\n"
     ]
    }
   ],
   "source": [
    "#Here I use tuple comprehension\n",
    "#Here using for loop I itterate over tuple and then multiply every element by 2\n",
    "multiply_num = tuple(i*2 for i in tuple2)\n",
    "#Here I simply print the variable\n",
    "print(multiply_num)"
   ]
  },
  {
   "cell_type": "code",
   "execution_count": 13,
   "id": "6441641e-b12b-43f1-83d0-6830dec38350",
   "metadata": {},
   "outputs": [
    {
     "name": "stdout",
     "output_type": "stream",
     "text": [
      "Random tuple: (28, 1, 37, 61, 23, 57, 86, 90, 16, 37)\n"
     ]
    }
   ],
   "source": [
    "import random\n",
    "#Here I create a tuple of random numbers using a list comprehension\n",
    "#Here I generate 10 random numbers between 1 and 100\n",
    "random_tuple = tuple(random.randint(1, 100) for _ in range(10))\n",
    "#Here I simply print a variable\n",
    "print(\"Random tuple:\", random_tuple)"
   ]
  },
  {
   "cell_type": "code",
   "execution_count": 20,
   "id": "f79d6585-a175-4702-9a2e-3831780a66b8",
   "metadata": {},
   "outputs": [
    {
     "name": "stdout",
     "output_type": "stream",
     "text": [
      "Tuple is sorted\n"
     ]
    }
   ],
   "source": [
    "#Here I defined a function to find the tuple is sorted or not\n",
    "def is_sorted(tup):\n",
    "    #Using for loop I itterate over a tuple\n",
    "    for i in range(len(tup) - 1):\n",
    "        #Using if statement check if the previous number is greater or not and then return as what it is\n",
    "        if tup[i] > tup[i + 1]:\n",
    "            return \"Tuple is not sorted\"\n",
    "    return \"Tuple is sorted\"\n",
    "#Here I call the function and pass the tuple3 to it\n",
    "sorted_or_not = is_sorted(tuple3)\n",
    "#Here I simply use print function\n",
    "print(sorted_or_not)"
   ]
  },
  {
   "cell_type": "code",
   "execution_count": 21,
   "id": "42a6db2b-eb2f-4b3f-b33a-f0acfd1ceb4d",
   "metadata": {},
   "outputs": [
    {
     "name": "stdout",
     "output_type": "stream",
     "text": [
      "(70, 80, 90, 60)\n"
     ]
    }
   ],
   "source": [
    "#Here I defined a function to rotate tuple left\n",
    "def rotate_tuple_left(tup, n):\n",
    "    #Here I ensure n is within the range of tuple length\n",
    "    n = n % len(tup)\n",
    "    #Here I rotate the tuple\n",
    "    rotated_tuple = tup[n:] + tup[:n]\n",
    "    return rotated_tuple\n",
    "#Here I specify how much to rotate\n",
    "n_positions = 1\n",
    "#Here I call a function\n",
    "result = rotate_tuple_left(tuple3, n_positions)\n",
    "#Here I simply print a variable\n",
    "print(result)"
   ]
  },
  {
   "cell_type": "code",
   "execution_count": 23,
   "id": "7f8296bd-44b4-4a59-9fff-63e0209770c8",
   "metadata": {},
   "outputs": [
    {
     "name": "stdout",
     "output_type": "stream",
     "text": [
      "(80, 90, 60, 70)\n"
     ]
    }
   ],
   "source": [
    "#Here I defined a function to rotate tuple right\n",
    "def rotate_tuple_right(tup, n):\n",
    "    #Here I ensure n is within the range of tuple length\n",
    "    n = n % len(tup)\n",
    "    #Here I rotate the tuple\n",
    "    rotated_tuple = tup[-n:] + tup[:-n]  # Rotate the tuple\n",
    "    return rotated_tuple\n",
    "#Here I specify how much to rotate\n",
    "n_positions = 2\n",
    "#Here I call a function\n",
    "result = rotate_tuple_right(tuple3, n_positions)\n",
    "#Here I simply print a variable\n",
    "print(result)"
   ]
  },
  {
   "cell_type": "code",
   "execution_count": 24,
   "id": "ce738e01-2858-44b0-b53c-2d4228ede640",
   "metadata": {},
   "outputs": [
    {
     "name": "stdout",
     "output_type": "stream",
     "text": [
      "(0, 1, 1, 2, 3)\n"
     ]
    }
   ],
   "source": [
    "# Define a function to generate the first n Fibonacci numbers\n",
    "def generate_fibonacci(n):\n",
    "    # Initialize the list with the first two Fibonacci numbers\n",
    "    fibonacci = [0, 1]\n",
    "    #Continue generating Fibonacci numbers until the list has n elements\n",
    "    while len(fibonacci) < n:\n",
    "        # Calculate the next Fibonacci number\n",
    "        next_number = fibonacci[-1] + fibonacci[-2]\n",
    "        # Add the next Fibonacci number to the list\n",
    "        fibonacci.append(next_number)  \n",
    "    # Convert the list to a tuple and return it\n",
    "    return tuple(fibonacci)\n",
    "\n",
    "# Call the generate_fibonacci function to create a tuple of the first 5 Fibonacci numbers\n",
    "fibonacci_tuple = generate_fibonacci(5)\n",
    "\n",
    "#Here I simply print a variable\n",
    "print(fibonacci_tuple)"
   ]
  },
  {
   "cell_type": "code",
   "execution_count": 28,
   "id": "530352ea-dc24-4ab3-8432-f3ee03b7851a",
   "metadata": {},
   "outputs": [
    {
     "name": "stdin",
     "output_type": "stream",
     "text": [
      " 3424235436247\n"
     ]
    },
    {
     "name": "stdout",
     "output_type": "stream",
     "text": [
      "('3', '4', '2', '4', '2', '3', '5', '4', '3', '6', '2', '4', '7')\n"
     ]
    }
   ],
   "source": [
    "#Here I take a input from a user and typecast with tuple\n",
    "user_input_tuple = tuple(input())\n",
    "#Here I simply print a variable\n",
    "print(user_input_tuple)"
   ]
  },
  {
   "cell_type": "code",
   "execution_count": 29,
   "id": "3016316f-d5b3-4c77-b88a-5e69042d7ca2",
   "metadata": {},
   "outputs": [
    {
     "name": "stdout",
     "output_type": "stream",
     "text": [
      "Swapped tuple: (10, 40, 30, 20, 3)\n"
     ]
    }
   ],
   "source": [
    "# Create a tuple\n",
    "my_tuple = (1, 2, 3, 4, 5)\n",
    "\n",
    "# Swap elements at indices 1 and 3\n",
    "index1 = 1\n",
    "index2 = 3\n",
    "swapped_tuple = tuple(\n",
    "    tuple2[i] if i not in (index1, index2) else\n",
    "    tuple2[index2] if i == index1 else\n",
    "    tuple2[index1]\n",
    "    for i in range(len(my_tuple))\n",
    ")\n",
    "\n",
    "# Print the swapped tuple\n",
    "print(\"Swapped tuple:\", swapped_tuple)"
   ]
  },
  {
   "cell_type": "code",
   "execution_count": 32,
   "id": "f0d83552-ffbc-4911-a383-8e804310dc5f",
   "metadata": {},
   "outputs": [
    {
     "name": "stdout",
     "output_type": "stream",
     "text": [
      "(90, 80, 70, 60)\n"
     ]
    }
   ],
   "source": [
    "#Here I reversed the tuple3 using ::-1 this is the basic technique to obtain reversed element\n",
    "reversed_tuple = tuple3[::-1]\n",
    "#Here I simply print a variable\n",
    "print(reversed_tuple)"
   ]
  },
  {
   "cell_type": "code",
   "execution_count": 33,
   "id": "afc46420-8055-4cfd-8819-1e0f62cfcfb0",
   "metadata": {},
   "outputs": [
    {
     "name": "stdout",
     "output_type": "stream",
     "text": [
      "Tuple of the first 5 powers of 2: (1, 2, 4, 8, 16)\n"
     ]
    }
   ],
   "source": [
    "#Here I defined a variable with a value of n\n",
    "n = 5\n",
    "#Here I create a tuple of the first n powers of 2 using a list comprehension\n",
    "powers_of_2_tuple = tuple(2 ** i for i in range(n))\n",
    "#Here I use simple print function\n",
    "print(\"Tuple of the first\", n, \"powers of 2:\", powers_of_2_tuple)"
   ]
  },
  {
   "cell_type": "code",
   "execution_count": 37,
   "id": "3e9fee61-373e-4d94-8b09-301593b8771c",
   "metadata": {},
   "outputs": [
    {
     "name": "stdout",
     "output_type": "stream",
     "text": [
      "Longest string: 546\n"
     ]
    }
   ],
   "source": [
    "#Here I use max function, where I pass 2 values one is tuple which I want to know the longest element and 2nd is the key by which I will get the length of the every element\n",
    "longest_string = max(tuple9, key=len)\n",
    "#Here I simply print a variable\n",
    "print(\"Longest string:\", longest_string)"
   ]
  },
  {
   "cell_type": "code",
   "execution_count": 40,
   "id": "697644e6-b935-4985-868a-99cebef8066b",
   "metadata": {},
   "outputs": [
    {
     "name": "stdout",
     "output_type": "stream",
     "text": [
      "Shortest string: 5\n"
     ]
    }
   ],
   "source": [
    "#Here I use min function, where I pass 2 values one is tuple which I want to know the shortest element and 2nd is the key by which I will get the length of the every element\n",
    "shortest_string = min(tuple9, key=len)\n",
    "#Here I simply print a variable\n",
    "print(\"Shortest string:\", shortest_string)"
   ]
  },
  {
   "cell_type": "code",
   "execution_count": 43,
   "id": "8ed26812-1ff4-4693-be3f-b041a9f3fc36",
   "metadata": {},
   "outputs": [
    {
     "name": "stdout",
     "output_type": "stream",
     "text": [
      "(1, 3, 6, 10, 15)\n"
     ]
    }
   ],
   "source": [
    "#Here I defined the vaule of n\n",
    "n = 5\n",
    "#Here I create a tuple of the first n triangular numbers using a list comprehension\n",
    "triangular_numbers_tuple = tuple((i * (i + 1)) // 2 for i in range(1, n + 1))\n",
    "#Here I simply print a variable\n",
    "print(triangular_numbers_tuple)"
   ]
  },
  {
   "cell_type": "code",
   "execution_count": 44,
   "id": "b25d1f75-9e6d-4d4d-9465-a43ba6a62cd7",
   "metadata": {},
   "outputs": [
    {
     "name": "stdout",
     "output_type": "stream",
     "text": [
      "Main tuple contains subsequence tuple: True\n"
     ]
    }
   ],
   "source": [
    "# Function to check if a tuple contains another tuple as a subsequence\n",
    "def contains_subsequence(main_tuple, sub_tuple):\n",
    "    sub_length = len(sub_tuple)\n",
    "    for i in range(len(main_tuple) - sub_length + 1):\n",
    "        if main_tuple[i:i+sub_length] == sub_tuple:\n",
    "            return True\n",
    "    return False\n",
    "\n",
    "# Main tuple\n",
    "main_tuple = (1, 2, 3, 4, 5, 6, 7, 8, 9)\n",
    "\n",
    "# Subsequence tuple\n",
    "sub_tuple = (3, 4, 5)\n",
    "\n",
    "# Check if the main tuple contains the subsequence tuple\n",
    "contains_subseq = contains_subsequence(main_tuple, sub_tuple)\n",
    "\n",
    "# Print the result\n",
    "print(\"Main tuple contains subsequence tuple:\", contains_subseq)"
   ]
  },
  {
   "cell_type": "code",
   "execution_count": 45,
   "id": "2368a873-46ad-4639-8091-9f8b19c48d74",
   "metadata": {},
   "outputs": [
    {
     "name": "stdout",
     "output_type": "stream",
     "text": [
      "(0, 1, 0, 1, 0, 1, 0, 1, 0, 1)\n"
     ]
    }
   ],
   "source": [
    "#Here first define the value for n\n",
    "n = 10\n",
    "#Here I used list comprehension\n",
    "#Using for loop in range of n and then I print i%2\n",
    "alternating_tuple = tuple(i % 2 for i in range(n))\n",
    "#Here I simply print a variable\n",
    "print(alternating_tuple)"
   ]
  },
  {
   "cell_type": "code",
   "execution_count": 2,
   "id": "90f8a574-c897-4fa0-85ec-776c8a2d958b",
   "metadata": {},
   "outputs": [
    {
     "data": {
      "text/plain": [
       "set"
      ]
     },
     "execution_count": 2,
     "metadata": {},
     "output_type": "execute_result"
    }
   ],
   "source": [
    "set1 = {1,2,3,4,5}\n",
    "type(set1)"
   ]
  },
  {
   "cell_type": "code",
   "execution_count": 5,
   "id": "28dae076-59e1-4978-896b-bf71099e0bd3",
   "metadata": {},
   "outputs": [
    {
     "data": {
      "text/plain": [
       "{1, 2, 3, 4, 5, 7, 8}"
      ]
     },
     "execution_count": 5,
     "metadata": {},
     "output_type": "execute_result"
    }
   ],
   "source": [
    "#Here using add function I added an element to set\n",
    "set1.add(7)\n",
    "set1"
   ]
  },
  {
   "cell_type": "code",
   "execution_count": 8,
   "id": "48ed647b-69b4-4b62-a76f-3e7ee9c5f7bc",
   "metadata": {},
   "outputs": [
    {
     "data": {
      "text/plain": [
       "{1, 2, 5, 7, 8}"
      ]
     },
     "execution_count": 8,
     "metadata": {},
     "output_type": "execute_result"
    }
   ],
   "source": [
    "#Here using remove function I removean element from set\n",
    "set1.remove(3)\n",
    "set1"
   ]
  },
  {
   "cell_type": "code",
   "execution_count": 20,
   "id": "73ed7129-f253-40c0-94d7-6885acee4aff",
   "metadata": {},
   "outputs": [
    {
     "name": "stdout",
     "output_type": "stream",
     "text": [
      "Element not exist in Set\n"
     ]
    }
   ],
   "source": [
    "#Here I take a element to be checked in set\n",
    "check_element = 4\n",
    "#Here using if statement I check weather the element present in set\n",
    "if check_element in set1 :\n",
    "    #Here I simply use print statement\n",
    "    print(\"Element exist in Set\")\n",
    "#When if statement does not satisfy then the else part will be executed\n",
    "else:\n",
    "    #Here I simply use print statement\n",
    "    print(\"Element not exist in Set\")"
   ]
  },
  {
   "cell_type": "code",
   "execution_count": 36,
   "id": "3a54dc4f-aff5-443f-b352-b6e7471fea2b",
   "metadata": {},
   "outputs": [
    {
     "name": "stdout",
     "output_type": "stream",
     "text": [
      "5\n"
     ]
    }
   ],
   "source": [
    "#Here I take a variable and initalise it with 0\n",
    "len_of_set=0\n",
    "#Here using for loop to itterate over set\n",
    "for i in set1:\n",
    "    #Here I increment the count every itteration\n",
    "    len_of_set +=1\n",
    "#Here I use simple print function    \n",
    "print(len_of_set)"
   ]
  },
  {
   "cell_type": "code",
   "execution_count": 37,
   "id": "71691154-43aa-4037-9942-cd74c8678c64",
   "metadata": {},
   "outputs": [
    {
     "data": {
      "text/plain": [
       "set()"
      ]
     },
     "execution_count": 37,
     "metadata": {},
     "output_type": "execute_result"
    }
   ],
   "source": [
    "#Here using clear function I clear all the elements in set\n",
    "set1.clear()\n",
    "set1"
   ]
  },
  {
   "cell_type": "code",
   "execution_count": 39,
   "id": "effc9fb2-de2b-4bfe-9195-35f513da585a",
   "metadata": {},
   "outputs": [
    {
     "name": "stdout",
     "output_type": "stream",
     "text": [
      "{2, 4, 6, 8, 10}\n"
     ]
    }
   ],
   "source": [
    "#Here using for loop in range from 1 to 11 and using if statement to check it is even number or not then I print it\n",
    "even_num_set = {i for i in range(1,11) if i%2==0}\n",
    "#Here I use simple print function\n",
    "print(even_num_set)"
   ]
  },
  {
   "cell_type": "code",
   "execution_count": 40,
   "id": "c2d5dbbf-bef9-4931-ad11-98fa40cb26d2",
   "metadata": {},
   "outputs": [
    {
     "name": "stdout",
     "output_type": "stream",
     "text": [
      "{1, 3, 5, 7, 9}\n"
     ]
    }
   ],
   "source": [
    "#Here using for loop in range from 10 and using if statement to check it is odd number or not then I print it\n",
    "odd_num_set = {i for i in range(10) if i%2!=0}\n",
    "#Here I use simple print function\n",
    "print(odd_num_set)"
   ]
  },
  {
   "cell_type": "code",
   "execution_count": 7,
   "id": "380d59d0-51d4-41ed-833a-ac217327124b",
   "metadata": {},
   "outputs": [
    {
     "name": "stdout",
     "output_type": "stream",
     "text": [
      "{1, 2, 3, 4, 5}\n"
     ]
    }
   ],
   "source": [
    "#Here I take a new set2\n",
    "set2 = {1,2,3,4,5}\n",
    "#Here I take a new set3\n",
    "set3 = {3,4,5}\n",
    "#Here I use union function to check the union in two sets\n",
    "union_set = set2.union(set3)\n",
    "#Here I use simple print function\n",
    "print(union_set)"
   ]
  },
  {
   "cell_type": "code",
   "execution_count": 44,
   "id": "f3bdb2d7-4f68-4636-b4c9-3a7d31426109",
   "metadata": {},
   "outputs": [
    {
     "name": "stdout",
     "output_type": "stream",
     "text": [
      "{3, 4, 5}\n"
     ]
    }
   ],
   "source": [
    "#Here using intersection function in the set I check the intersection between the two set, set2 and set3\n",
    "intersection_of_set = set2.intersection(set3)\n",
    "#Here I simply use print function\n",
    "print(intersection_of_set)"
   ]
  },
  {
   "cell_type": "code",
   "execution_count": 46,
   "id": "868deb3c-ce51-4ead-80fa-3da2fedfc6f6",
   "metadata": {},
   "outputs": [
    {
     "name": "stdout",
     "output_type": "stream",
     "text": [
      "{1, 2}\n"
     ]
    }
   ],
   "source": [
    "#Here using difference function in set I check the difference between sets\n",
    "difference_set = set2.difference(set3)\n",
    "#Here I use simply print function\n",
    "print(difference_set)"
   ]
  },
  {
   "cell_type": "code",
   "execution_count": 51,
   "id": "bef057a2-fb2b-48d4-a210-3a3badf7c25a",
   "metadata": {},
   "outputs": [
    {
     "data": {
      "text/plain": [
       "True"
      ]
     },
     "execution_count": 51,
     "metadata": {},
     "output_type": "execute_result"
    }
   ],
   "source": [
    "#Here using issubset function I check weather set3 is a subset of set2\n",
    "set3.issubset(set2)"
   ]
  },
  {
   "cell_type": "code",
   "execution_count": 55,
   "id": "c668d5a4-5a1d-43ca-9a4e-f3f0c6c49897",
   "metadata": {},
   "outputs": [
    {
     "data": {
      "text/plain": [
       "True"
      ]
     },
     "execution_count": 55,
     "metadata": {},
     "output_type": "execute_result"
    }
   ],
   "source": [
    "#Here using issuperset function I check weather set2 is a superset of set3 \n",
    "set2.issuperset(set3)"
   ]
  },
  {
   "cell_type": "code",
   "execution_count": 2,
   "id": "f9267c85-0642-46cf-ade6-fccd6694cff8",
   "metadata": {},
   "outputs": [],
   "source": [
    "#Here I create a list\n",
    "list69 = [2,4,6,224,7,8,8,8,]"
   ]
  },
  {
   "cell_type": "code",
   "execution_count": 4,
   "id": "54f2263f-cf6c-4524-83eb-3072ef3c91fc",
   "metadata": {},
   "outputs": [
    {
     "data": {
      "text/plain": [
       "{2, 4, 6, 7, 8, 224}"
      ]
     },
     "execution_count": 4,
     "metadata": {},
     "output_type": "execute_result"
    }
   ],
   "source": [
    "#Here I typecast and convert it into a list\n",
    "set(list69)"
   ]
  },
  {
   "cell_type": "code",
   "execution_count": 6,
   "id": "f90a7658-a5f3-48a3-a8c7-803f1454b61c",
   "metadata": {},
   "outputs": [
    {
     "data": {
      "text/plain": [
       "[3, 5, 6, 7, 8, 9]"
      ]
     },
     "execution_count": 6,
     "metadata": {},
     "output_type": "execute_result"
    }
   ],
   "source": [
    "#Here I create a Set\n",
    "set4 = {3,5,6,7,8,9}\n",
    "#Here I typecast a set and convert it into a list\n",
    "list(set4)"
   ]
  },
  {
   "cell_type": "code",
   "execution_count": 10,
   "id": "4124ba2f-303e-4197-ab5c-99c119ddaf03",
   "metadata": {},
   "outputs": [
    {
     "name": "stdout",
     "output_type": "stream",
     "text": [
      "Original set: {1, 2, 3, 4, 5}\n",
      "Updated set after removing 1 : {2, 3, 4, 5}\n"
     ]
    }
   ],
   "source": [
    "import random  # Import the random module\n",
    "\n",
    "# Create a set with some elements\n",
    "my_set = {1, 2, 3, 4, 5}\n",
    "\n",
    "# Display the original set\n",
    "print(\"Original set:\", my_set)\n",
    "\n",
    "# Choose a random element from the set using the random.choice() function\n",
    "random_element = random.choice(list(my_set))\n",
    "\n",
    "# Remove the chosen random element from the set using the remove() method\n",
    "my_set.remove(random_element)\n",
    "\n",
    "# Display the updated set after removing the random element\n",
    "print(\"Updated set after removing\", random_element, \":\", my_set)"
   ]
  },
  {
   "cell_type": "code",
   "execution_count": 13,
   "id": "5bcf09e4-1e9c-4d2b-bf64-bc55dd23cbd8",
   "metadata": {},
   "outputs": [
    {
     "data": {
      "text/plain": [
       "{3, 5}"
      ]
     },
     "execution_count": 13,
     "metadata": {},
     "output_type": "execute_result"
    }
   ],
   "source": [
    "#Here I use pop function to pop the element from the set\n",
    "set2.pop()\n",
    "set2"
   ]
  },
  {
   "cell_type": "code",
   "execution_count": 16,
   "id": "4f05d1c3-92ff-4160-a22f-8ba8fb7cb12e",
   "metadata": {},
   "outputs": [
    {
     "name": "stdout",
     "output_type": "stream",
     "text": [
      "set()\n"
     ]
    }
   ],
   "source": [
    "#Here I create a new set\n",
    "set5 = {1,23,6,4,5,6}\n",
    "#Here I create a new set\n",
    "set6 = {67,9,0,53,2,2}\n",
    "#Here using intersection function in the set I check weather any elements common in sets\n",
    "intersection_of_set = set5.intersection(set6)\n",
    "#Here I simply use print function\n",
    "print(intersection_of_set)"
   ]
  },
  {
   "cell_type": "code",
   "execution_count": 19,
   "id": "b4a6931c-35ff-4de5-a4b3-cee9bb214846",
   "metadata": {},
   "outputs": [
    {
     "name": "stdout",
     "output_type": "stream",
     "text": [
      "{0, 1, 2, 67, 4, 5, 6, 9, 23, 53}\n"
     ]
    }
   ],
   "source": [
    "#Here I use ^ operator to find the symmetric difference in set\n",
    "symmetric_difference = set5 ^ set6\n",
    "#Here I use simple print function\n",
    "print(symmetric_difference)"
   ]
  },
  {
   "cell_type": "code",
   "execution_count": 23,
   "id": "352564a0-df58-4646-8767-9dbb13059aa6",
   "metadata": {},
   "outputs": [],
   "source": [
    "#Here I use update function in set to update the elements of set 3\n",
    "set3.update(set2)"
   ]
  },
  {
   "cell_type": "code",
   "execution_count": 24,
   "id": "5bb1ab00-40dc-47d5-baad-cb8c209b4b0e",
   "metadata": {},
   "outputs": [
    {
     "data": {
      "text/plain": [
       "{3, 5}"
      ]
     },
     "execution_count": 24,
     "metadata": {},
     "output_type": "execute_result"
    }
   ],
   "source": [
    "set2"
   ]
  },
  {
   "cell_type": "code",
   "execution_count": 25,
   "id": "2a2b6bc9-00f6-428d-be3a-3f7b4a578a69",
   "metadata": {},
   "outputs": [
    {
     "name": "stdout",
     "output_type": "stream",
     "text": [
      "Set of the first 5 prime numbers: {2, 3, 5, 7, 11}\n"
     ]
    }
   ],
   "source": [
    "# Function to check if a number is prime\n",
    "def is_prime(num):\n",
    "    if num <= 1:\n",
    "        return False\n",
    "    for i in range(2, int(num ** 0.5) + 1):\n",
    "        if num % i == 0:\n",
    "            return False\n",
    "    return True\n",
    "\n",
    "# Create an empty set to store the prime numbers\n",
    "prime_set = set()\n",
    "\n",
    "# Initialize the number to start checking for primes\n",
    "num = 2\n",
    "\n",
    "# Loop until we have found the first 5 prime numbers\n",
    "while len(prime_set) < 5:\n",
    "    # Check if the current number is prime using the is_prime function\n",
    "    if is_prime(num):\n",
    "        # If the number is prime, add it to the prime_set\n",
    "        prime_set.add(num)\n",
    "\n",
    "    # Move on to the next number for the next iteration\n",
    "    num += 1\n",
    "\n",
    "# Print the set of prime numbers\n",
    "print(\"Set of the first 5 prime numbers:\", prime_set)"
   ]
  },
  {
   "cell_type": "code",
   "execution_count": 26,
   "id": "3f6abc11-3336-4467-a20f-47dceec491cb",
   "metadata": {},
   "outputs": [
    {
     "name": "stdout",
     "output_type": "stream",
     "text": [
      "The sets are identical.\n"
     ]
    }
   ],
   "source": [
    "# Step 1: Define two sets\n",
    "set1 = {1, 2, 3, 4, 5}\n",
    "set2 = {3, 1, 5, 2, 4}  # The order of elements doesn't matter in sets\n",
    "\n",
    "# Step 2: Check if the sets are identical using the `==` operator\n",
    "# Sets are unordered collections, so the order of elements doesn't matter.\n",
    "# The `==` operator compares the content of the sets.\n",
    "if set1 == set2:\n",
    "    print(\"The sets are identical.\")\n",
    "else:\n",
    "    print(\"The sets are not identical.\")"
   ]
  },
  {
   "cell_type": "code",
   "execution_count": 27,
   "id": "4eea3536-bac7-4920-9b69-5166dc232719",
   "metadata": {},
   "outputs": [
    {
     "name": "stdout",
     "output_type": "stream",
     "text": [
      "Frozen Set: frozenset({1, 2, 3, 4, 5})\n"
     ]
    }
   ],
   "source": [
    "# Step 2: Define a list of elements that you want to include in the frozen set\n",
    "elements = [1, 2, 3, 4, 5]\n",
    "\n",
    "# Step 3: Create a frozen set using the 'frozenset' constructor and passing the list of elements\n",
    "my_frozen_set = frozenset(elements)\n",
    "\n",
    "# Step 4: Print the frozen set\n",
    "print(\"Frozen Set:\", my_frozen_set)"
   ]
  },
  {
   "cell_type": "code",
   "execution_count": 28,
   "id": "7b71e269-9329-40fe-a7f3-733a000fd94f",
   "metadata": {},
   "outputs": [
    {
     "name": "stdout",
     "output_type": "stream",
     "text": [
      "Are the sets disjoint? True\n"
     ]
    }
   ],
   "source": [
    "# Step 1: Define the two sets you want to check for disjointness\n",
    "set1 = {1, 2, 3, 4}\n",
    "set2 = {5, 6, 7, 8}\n",
    "\n",
    "# Step 2: Use the `isdisjoint()` method to check if the sets are disjoint\n",
    "# The `isdisjoint()` method returns True if the sets have no common elements,\n",
    "# and False if they have at least one common element.\n",
    "disjoint_status = set1.isdisjoint(set2)\n",
    "\n",
    "# Step 3: Print the result\n",
    "print(\"Are the sets disjoint?\", disjoint_status)"
   ]
  },
  {
   "cell_type": "code",
   "execution_count": 29,
   "id": "bac440bc-a820-491b-b67c-ce0da98623ad",
   "metadata": {},
   "outputs": [
    {
     "name": "stdout",
     "output_type": "stream",
     "text": [
      "{1, 4, 9, 16, 25}\n"
     ]
    }
   ],
   "source": [
    "# Step 1: Create an empty set to store the squares of numbers\n",
    "squares_set = set()\n",
    "\n",
    "# Step 2: Use a loop to iterate through numbers from 1 to 5\n",
    "for num in range(1, 6):\n",
    "    # Step 3: Calculate the square of the current number\n",
    "    square = num ** 2\n",
    "\n",
    "    # Step 4: Add the square to the set\n",
    "    squares_set.add(square)\n",
    "\n",
    "# Step 5: Print the set of squares\n",
    "print(squares_set)"
   ]
  },
  {
   "cell_type": "code",
   "execution_count": 30,
   "id": "0f565f4c-2cfb-4aef-b1e7-2caadef6faf7",
   "metadata": {},
   "outputs": [
    {
     "name": "stdout",
     "output_type": "stream",
     "text": [
      "Original Set: {1, 2, 3, 4, 5}\n",
      "Even Numbers Set: {2, 4}\n"
     ]
    }
   ],
   "source": [
    "# Step 1: Create a set with integers from 1 to 5\n",
    "original_set = {1, 2, 3, 4, 5}\n",
    "\n",
    "# Step 2: Initialize an empty set to store the filtered even numbers\n",
    "even_numbers_set = set()\n",
    "\n",
    "# Step 3: Iterate through each element in the original set\n",
    "for num in original_set:\n",
    "    # Step 4: Check if the current number is even (divisible by 2)\n",
    "    if num % 2 == 0:\n",
    "        # Step 5: If even, add it to the even_numbers_set\n",
    "        even_numbers_set.add(num)\n",
    "\n",
    "# Step 6: Print the original set and the set containing even numbers\n",
    "print(\"Original Set:\", original_set)\n",
    "print(\"Even Numbers Set:\", even_numbers_set)"
   ]
  },
  {
   "cell_type": "code",
   "execution_count": 31,
   "id": "cc5e0925-cd5b-4bba-a432-f059b6d1ee9a",
   "metadata": {},
   "outputs": [
    {
     "name": "stdout",
     "output_type": "stream",
     "text": [
      "Original Set: {1, 2, 3, 4, 5}\n",
      "Multiplied Set: {2, 4, 6, 8, 10}\n"
     ]
    }
   ],
   "source": [
    "# Create a set with integers from 1 to 5\n",
    "original_set = {1, 2, 3, 4, 5}\n",
    "\n",
    "# Initialize an empty set to store the multiplied elements\n",
    "multiplied_set = set()\n",
    "\n",
    "# Loop through each element in the original set\n",
    "for num in original_set:\n",
    "    # Multiply the current element by 2\n",
    "    multiplied_num = num * 2\n",
    "\n",
    "    # Add the multiplied element to the multiplied_set\n",
    "    multiplied_set.add(multiplied_num)\n",
    "\n",
    "# The original_set remains unchanged\n",
    "print(\"Original Set:\", original_set)\n",
    "\n",
    "# Display the set with elements multiplied by 2\n",
    "print(\"Multiplied Set:\", multiplied_set)"
   ]
  },
  {
   "cell_type": "code",
   "execution_count": 32,
   "id": "489b1f31-1afa-4a25-aaaa-8fc835215bec",
   "metadata": {},
   "outputs": [
    {
     "name": "stdout",
     "output_type": "stream",
     "text": [
      "Generated set of random numbers: {65, 19, 27, 30, 31}\n"
     ]
    }
   ],
   "source": [
    "# Step 1: Import the `random` module to generate random numbers\n",
    "import random\n",
    "\n",
    "# Step 2: Define the number of random numbers you want in the set\n",
    "num_random_numbers = 5\n",
    "\n",
    "# Step 3: Initialize an empty set to store the random numbers\n",
    "random_number_set = set()\n",
    "\n",
    "# Step 4: Use a loop to generate random numbers and add them to the set\n",
    "for _ in range(num_random_numbers):\n",
    "    # Generate a random integer using the `randint` function from the `random` module\n",
    "    random_num = random.randint(1, 100)  # Generate a random number between 1 and 100\n",
    "    # Add the random number to the set\n",
    "    random_number_set.add(random_num)\n",
    "\n",
    "# Step 5: Print the generated set of random numbers\n",
    "print(\"Generated set of random numbers:\", random_number_set)"
   ]
  },
  {
   "cell_type": "code",
   "execution_count": 33,
   "id": "5a19c8bf-10a5-4e24-9c3d-baef7b44d58f",
   "metadata": {},
   "outputs": [
    {
     "name": "stdout",
     "output_type": "stream",
     "text": [
      "The set is empty.\n"
     ]
    }
   ],
   "source": [
    "# Step 1: Create a set (you can replace this with your own set)\n",
    "my_set = set()\n",
    "\n",
    "# Step 2: Check if the set is empty using the 'if' statement\n",
    "if not my_set:\n",
    "    print(\"The set is empty.\")\n",
    "else:\n",
    "    print(\"The set is not empty.\")"
   ]
  },
  {
   "cell_type": "code",
   "execution_count": 34,
   "id": "df597133-614a-4e59-9c2b-91b9f39e040a",
   "metadata": {},
   "outputs": [
    {
     "name": "stdout",
     "output_type": "stream",
     "text": [
      "Nested Set: {frozenset({1, 2, 3, 4, 5}), frozenset({6, 7, 8, 9, 10})}\n"
     ]
    }
   ],
   "source": [
    "# Step 1: Create the inner sets\n",
    "set1 = {1, 2, 3, 4, 5}\n",
    "set2 = {6, 7, 8, 9, 10}\n",
    "\n",
    "# Step 2: Create frozensets from the inner sets\n",
    "frozen_set1 = frozenset(set1)\n",
    "frozen_set2 = frozenset(set2)\n",
    "\n",
    "# Step 3: Create the nested set using the frozensets\n",
    "nested_set = {frozen_set1, frozen_set2}\n",
    "\n",
    "# Print the nested set\n",
    "print(\"Nested Set:\", nested_set)"
   ]
  },
  {
   "cell_type": "code",
   "execution_count": 35,
   "id": "8021ca24-5a7a-4d91-8b2a-fae812eaa0a5",
   "metadata": {},
   "outputs": [
    {
     "name": "stdout",
     "output_type": "stream",
     "text": [
      "Initial set: {1, 2, 3, 4, 5}\n",
      "Set after removing 3 : {1, 2, 4, 5}\n"
     ]
    }
   ],
   "source": [
    "# Create a set with some elements\n",
    "my_set = {1, 2, 3, 4, 5}\n",
    "\n",
    "# Display the initial set\n",
    "print(\"Initial set:\", my_set)\n",
    "\n",
    "# Define the element to be removed\n",
    "element_to_remove = 3\n",
    "\n",
    "# Use the discard() method to remove the element from the set\n",
    "# If the element is not present in the set, discard() won't raise an error\n",
    "my_set.discard(element_to_remove)\n",
    "\n",
    "# Display the set after removing the element\n",
    "print(\"Set after removing\", element_to_remove, \":\", my_set)"
   ]
  },
  {
   "cell_type": "code",
   "execution_count": 36,
   "id": "0bb73c1a-846b-491c-a8b5-2195eec9182e",
   "metadata": {},
   "outputs": [
    {
     "name": "stdout",
     "output_type": "stream",
     "text": [
      "Set 1: {1, 2, 3, 4, 5}\n",
      "Set 2: {4, 5, 6, 7, 8}\n",
      "Is set1 a subset of set2? False\n",
      "Is set2 a subset of set1? False\n",
      "Intersection: {4, 5}\n",
      "Union: {1, 2, 3, 4, 5, 6, 7, 8}\n",
      "Elements in set1 but not in set2: {1, 2, 3}\n",
      "Elements in set2 but not in set1: {8, 6, 7}\n"
     ]
    }
   ],
   "source": [
    "# Step 1: Define two sets\n",
    "set1 = {1, 2, 3, 4, 5}\n",
    "set2 = {4, 5, 6, 7, 8}\n",
    "\n",
    "# Step 2: Use set operations to compare the sets\n",
    "# Check if set1 is a subset of set2\n",
    "is_subset = set1.issubset(set2)\n",
    "\n",
    "# Check if set2 is a subset of set1\n",
    "is_superset = set1.issuperset(set2)\n",
    "\n",
    "# Find the intersection of the sets\n",
    "intersection = set1.intersection(set2)\n",
    "\n",
    "# Find the union of the sets\n",
    "union = set1.union(set2)\n",
    "\n",
    "# Find the elements that are in set1 but not in set2\n",
    "difference1 = set1.difference(set2)\n",
    "\n",
    "# Find the elements that are in set2 but not in set1\n",
    "difference2 = set2.difference(set1)\n",
    "\n",
    "# Step 3: Print the results\n",
    "print(\"Set 1:\", set1)\n",
    "print(\"Set 2:\", set2)\n",
    "print(\"Is set1 a subset of set2?\", is_subset)\n",
    "print(\"Is set2 a subset of set1?\", is_superset)\n",
    "print(\"Intersection:\", intersection)\n",
    "print(\"Union:\", union)\n",
    "print(\"Elements in set1 but not in set2:\", difference1)\n",
    "print(\"Elements in set2 but not in set1:\", difference2)"
   ]
  },
  {
   "cell_type": "code",
   "execution_count": 37,
   "id": "35a6bfa9-11c5-4a69-97d2-56f0aef6bbaf",
   "metadata": {},
   "outputs": [
    {
     "name": "stdout",
     "output_type": "stream",
     "text": [
      "{'l', 'h', 'e', 'o'}\n"
     ]
    }
   ],
   "source": [
    "# Step 1: Define the input string\n",
    "input_string = \"hello\"\n",
    "\n",
    "# Step 2: Use the set() constructor to create a set from the characters in the string\n",
    "char_set = set(input_string)\n",
    "\n",
    "# Step 3: Print the resulting set\n",
    "print(char_set)"
   ]
  },
  {
   "cell_type": "code",
   "execution_count": 38,
   "id": "8134b0bf-43d6-44e7-8d0f-88a956635b82",
   "metadata": {},
   "outputs": [
    {
     "name": "stdout",
     "output_type": "stream",
     "text": [
      "Original String Set: {'456', '789', '123'}\n",
      "Converted Integer Set: {456, 123, 789}\n"
     ]
    }
   ],
   "source": [
    "# Step 1: Create a set of strings\n",
    "string_set = {\"123\", \"456\", \"789\"}\n",
    "\n",
    "# Step 2: Initialize an empty set to store integers\n",
    "integer_set = set()\n",
    "\n",
    "# Step 3: Iterate through each string in the string set\n",
    "for string in string_set:\n",
    "    # Step 4: Convert the string to an integer using the int() function\n",
    "    integer_value = int(string)\n",
    "\n",
    "    # Step 5: Add the integer to the integer set\n",
    "    integer_set.add(integer_value)\n",
    "\n",
    "# Step 6: Print the original string set and the converted integer set\n",
    "print(\"Original String Set:\", string_set)\n",
    "print(\"Converted Integer Set:\", integer_set)"
   ]
  },
  {
   "cell_type": "code",
   "execution_count": 39,
   "id": "f47b34c7-3f79-4931-ae30-67e3c0929071",
   "metadata": {},
   "outputs": [
    {
     "name": "stdout",
     "output_type": "stream",
     "text": [
      "Original integers_set: {1, 2, 3, 4, 5}\n",
      "Converted strings_set: {'4', '5', '1', '3', '2'}\n"
     ]
    }
   ],
   "source": [
    "# Step 1: Create a set of integers\n",
    "integers_set = {1, 2, 3, 4, 5}\n",
    "\n",
    "# Step 2: Initialize an empty set to store the strings\n",
    "strings_set = set()\n",
    "\n",
    "# Step 3: Iterate through each integer in the integers_set\n",
    "for num in integers_set:\n",
    "    # Step 4: Convert the integer to a string using the str() function\n",
    "    num_str = str(num)\n",
    "\n",
    "    # Step 5: Add the string representation to the strings_set\n",
    "    strings_set.add(num_str)\n",
    "\n",
    "# Step 6: Print the original integers_set and the converted strings_set\n",
    "print(\"Original integers_set:\", integers_set)\n",
    "print(\"Converted strings_set:\", strings_set)"
   ]
  },
  {
   "cell_type": "code",
   "execution_count": 40,
   "id": "06b1f680-63df-4c7c-9127-81715a94ff77",
   "metadata": {},
   "outputs": [
    {
     "name": "stdout",
     "output_type": "stream",
     "text": [
      "{1, 2, 3, 4, 5}\n"
     ]
    }
   ],
   "source": [
    "# Given tuple\n",
    "input_tuple = (1, 2, 3, 2, 4, 5, 1)\n",
    "\n",
    "# Step 1: Convert the tuple to a set\n",
    "output_set = set(input_tuple)\n",
    "# At this point, the set() function is used to convert the elements of the tuple into a set.\n",
    "# Since sets only contain unique elements, duplicate values are automatically removed.\n",
    "\n",
    "# Step 2: Print the resulting set\n",
    "print(output_set)\n",
    "# The set is now printed, and it will only contain the unique elements from the original tuple."
   ]
  },
  {
   "cell_type": "code",
   "execution_count": 41,
   "id": "b46fa9eb-0534-48d9-8589-5be258f7f3bb",
   "metadata": {},
   "outputs": [
    {
     "name": "stdout",
     "output_type": "stream",
     "text": [
      "Original set: {1, 2, 3, 4, 5}\n",
      "Converted tuple: (1, 2, 3, 4, 5)\n"
     ]
    }
   ],
   "source": [
    "# Step 1: Create a set\n",
    "input_set = {1, 2, 3, 4, 5}\n",
    "\n",
    "# Step 2: Convert the set to a tuple\n",
    "output_tuple = tuple(input_set)\n",
    "\n",
    "# Step 3: Print the original set and the converted tuple\n",
    "print(\"Original set:\", input_set)\n",
    "print(\"Converted tuple:\", output_tuple)"
   ]
  },
  {
   "cell_type": "code",
   "execution_count": 42,
   "id": "2bb5eb59-9ddc-4349-b060-df3c6afbf6f5",
   "metadata": {},
   "outputs": [
    {
     "name": "stdout",
     "output_type": "stream",
     "text": [
      "Maximum value: 22\n"
     ]
    }
   ],
   "source": [
    "# Define a set with some values\n",
    "my_set = {15, 7, 22, 13, 8}\n",
    "\n",
    "# Initialize a variable to store the maximum value\n",
    "max_value = None\n",
    "\n",
    "# Iterate through each element in the set\n",
    "for num in my_set:\n",
    "    # Check if max_value is None (first iteration) or if the current number is greater than max_value\n",
    "    if max_value is None or num > max_value:\n",
    "        max_value = num  # Update max_value with the current number if it's greater\n",
    "\n",
    "# Print the maximum value\n",
    "print(\"Maximum value:\", max_value)"
   ]
  },
  {
   "cell_type": "code",
   "execution_count": 43,
   "id": "e987d6c8-7fbc-477b-aeae-d5c2af4ac876",
   "metadata": {},
   "outputs": [
    {
     "name": "stdout",
     "output_type": "stream",
     "text": [
      "The minimum value in the set is: 4\n"
     ]
    }
   ],
   "source": [
    "# Create a sample set of numbers\n",
    "number_set = {15, 8, 23, 4, 42, 11}\n",
    "\n",
    "# Initialize a variable to store the minimum value\n",
    "min_value = None\n",
    "\n",
    "# Iterate through each element in the set\n",
    "for num in number_set:\n",
    "    # Check if min_value is None (first iteration) or if num is smaller than the current min_value\n",
    "    if min_value is None or num < min_value:\n",
    "        # Update min_value to the current num since it's smaller\n",
    "        min_value = num\n",
    "\n",
    "# Print the minimum value found in the set\n",
    "print(\"The minimum value in the set is:\", min_value)"
   ]
  },
  {
   "cell_type": "code",
   "execution_count": 44,
   "id": "e2b04f58-4da9-4278-9e76-83764af4be1c",
   "metadata": {},
   "outputs": [
    {
     "name": "stdout",
     "output_type": "stream",
     "text": [
      "Enter elements for the set (type 'done' to finish):\n"
     ]
    },
    {
     "name": "stdin",
     "output_type": "stream",
     "text": [
      ">  34\n",
      ">  553\n",
      ">  232\n",
      ">  5\n",
      ">  4\n",
      ">  6\n",
      ">  6\n",
      ">  643\n",
      ">  done\n"
     ]
    },
    {
     "name": "stdout",
     "output_type": "stream",
     "text": [
      "Final set: {'4', '5', '553', '232', '34', '643', '6'}\n"
     ]
    }
   ],
   "source": [
    "# Step 1: Initialize an empty set\n",
    "user_set = set()\n",
    "\n",
    "# Step 2: Get input from the user\n",
    "print(\"Enter elements for the set (type 'done' to finish):\")\n",
    "while True:\n",
    "    user_input = input(\"> \")  # Get input from the user\n",
    "\n",
    "    if user_input.lower() == 'done':\n",
    "        break  # Exit the loop if the user enters 'done'\n",
    "\n",
    "    # Step 3: Add the user input to the set\n",
    "    user_set.add(user_input)\n",
    "\n",
    "# Step 4: Display the final set created from user input\n",
    "print(\"Final set:\", user_set)"
   ]
  },
  {
   "cell_type": "code",
   "execution_count": 45,
   "id": "d42f3a72-6f4b-4a93-b9db-e52ee610098a",
   "metadata": {},
   "outputs": [
    {
     "name": "stdout",
     "output_type": "stream",
     "text": [
      "The intersection of the two sets is not empty.\n"
     ]
    }
   ],
   "source": [
    "# Step 1: Define two sets\n",
    "set1 = {1, 2, 3, 4, 5}\n",
    "set2 = {4, 5, 6, 7, 8}\n",
    "\n",
    "# Step 2: Find the intersection of the two sets using the `intersection()` method\n",
    "intersection_result = set1.intersection(set2)\n",
    "\n",
    "# Step 3: Check if the intersection result is empty\n",
    "if not intersection_result:\n",
    "    print(\"The intersection of the two sets is empty.\")\n",
    "else:\n",
    "    print(\"The intersection of the two sets is not empty.\")"
   ]
  },
  {
   "cell_type": "code",
   "execution_count": 46,
   "id": "680b876b-6a04-41ff-af97-5b27ee61e102",
   "metadata": {},
   "outputs": [
    {
     "name": "stdout",
     "output_type": "stream",
     "text": [
      "Set of the first 5 Fibonacci numbers: {0, 1, 2, 3, 5}\n"
     ]
    }
   ],
   "source": [
    "# Create a set to store the first 5 Fibonacci numbers\n",
    "fibonacci_set = set()\n",
    "\n",
    "# Initialize the first two Fibonacci numbers\n",
    "a, b = 0, 1\n",
    "\n",
    "# Loop to generate the first 5 Fibonacci numbers\n",
    "for _ in range(6):\n",
    "    # Add the current Fibonacci number to the set\n",
    "    fibonacci_set.add(a)\n",
    "\n",
    "    # Calculate the next Fibonacci number\n",
    "    a, b = b, a + b\n",
    "\n",
    "# Print the set of Fibonacci numbers\n",
    "print(\"Set of the first 5 Fibonacci numbers:\", fibonacci_set)"
   ]
  },
  {
   "cell_type": "code",
   "execution_count": 47,
   "id": "d8cba49c-b9c1-4e10-92fa-a1dc9a04a183",
   "metadata": {},
   "outputs": [
    {
     "name": "stdout",
     "output_type": "stream",
     "text": [
      "Original List: [2, 4, 6, 8, 4, 10, 6, 12, 14, 8]\n",
      "List with Duplicates Removed: [2, 4, 6, 8, 10, 12, 14]\n"
     ]
    }
   ],
   "source": [
    "# Step 1: Define a list with duplicates\n",
    "original_list = [2, 4, 6, 8, 4, 10, 6, 12, 14, 8]\n",
    "\n",
    "# Step 2: Convert the list to a set\n",
    "unique_set = set(original_list)\n",
    "# Now, 'unique_set' contains only unique elements from 'original_list'\n",
    "\n",
    "# Step 3: Convert the set back to a list\n",
    "unique_list = list(unique_set)\n",
    "# Now, 'unique_list' is a list containing only unique elements\n",
    "\n",
    "# Step 4: Print the original list and the list with duplicates removed\n",
    "print(\"Original List:\", original_list)\n",
    "print(\"List with Duplicates Removed:\", unique_list)"
   ]
  },
  {
   "cell_type": "code",
   "execution_count": 48,
   "id": "1a4ac69d-92e0-4768-a07e-2933e871b98a",
   "metadata": {},
   "outputs": [
    {
     "name": "stdout",
     "output_type": "stream",
     "text": [
      "The sets have the same elements.\n"
     ]
    }
   ],
   "source": [
    "def have_same_elements(set1, set2):\n",
    "    # Convert the sets to lists and sort them\n",
    "    sorted_list1 = sorted(list(set1))\n",
    "    sorted_list2 = sorted(list(set2))\n",
    "\n",
    "    # Compare the sorted lists to check if they are equal\n",
    "    return sorted_list1 == sorted_list2\n",
    "\n",
    "# Example sets\n",
    "set1 = {1, 2, 3, 2, 1}\n",
    "set2 = {3, 1, 2}\n",
    "\n",
    "# Check if the sets have the same elements\n",
    "result = have_same_elements(set1, set2)\n",
    "\n",
    "# Print the result\n",
    "if result:\n",
    "    print(\"The sets have the same elements.\")\n",
    "else:\n",
    "    print(\"The sets do not have the same elements.\")"
   ]
  },
  {
   "cell_type": "code",
   "execution_count": 49,
   "id": "fa63dfdd-d67a-4cb6-a7f5-acff9a360183",
   "metadata": {},
   "outputs": [
    {
     "name": "stdout",
     "output_type": "stream",
     "text": [
      "{1, 2, 4, 8, 16}\n"
     ]
    }
   ],
   "source": [
    "def generate_powers_of_2(n):\n",
    "    # Initialize an empty set to store the powers of 2\n",
    "    powers_of_2 = set()\n",
    "\n",
    "    # Loop from 0 to n-1\n",
    "    for i in range(n):\n",
    "        # Calculate the current power of 2 using the exponentiation operator **\n",
    "        power = 2 ** i\n",
    "\n",
    "        # Add the current power of 2 to the set\n",
    "        powers_of_2.add(power)\n",
    "\n",
    "    # Return the set of powers of 2\n",
    "    return powers_of_2\n",
    "\n",
    "# Define the value of n\n",
    "n = 5\n",
    "\n",
    "# Call the function to generate the set of powers of 2\n",
    "powers_set = generate_powers_of_2(n)\n",
    "\n",
    "# Print the resulting set\n",
    "print(powers_set)"
   ]
  },
  {
   "cell_type": "code",
   "execution_count": 50,
   "id": "2d9644cc-bab1-40c1-bcd7-ef0c65da5036",
   "metadata": {},
   "outputs": [
    {
     "name": "stdout",
     "output_type": "stream",
     "text": [
      "Common elements: [7, 9, 12]\n"
     ]
    }
   ],
   "source": [
    "# Step 1: Define a set and a list\n",
    "my_set = {3, 7, 9, 12, 15}\n",
    "my_list = [7, 12, 5, 9]\n",
    "\n",
    "# Step 2: Convert the list to a set for efficient comparison\n",
    "list_to_set = set(my_list)\n",
    "\n",
    "# Step 3: Initialize an empty list to store common elements\n",
    "common_elements = []\n",
    "\n",
    "# Step 4: Iterate through the elements in the set\n",
    "for element in my_set:\n",
    "    # Step 5: Check if the element is present in the converted set (list_to_set)\n",
    "    if element in list_to_set:\n",
    "        # Step 6: If the element is present in both the set and the list, add it to the common_elements list\n",
    "        common_elements.append(element)\n",
    "\n",
    "# Step 7: Print the common elements\n",
    "print(\"Common elements:\", common_elements)"
   ]
  },
  {
   "cell_type": "code",
   "execution_count": 51,
   "id": "28e3e32a-63c6-4e88-9ab9-5958836cde57",
   "metadata": {},
   "outputs": [
    {
     "name": "stdin",
     "output_type": "stream",
     "text": [
      "Enter the value of n:  3\n"
     ]
    },
    {
     "name": "stdout",
     "output_type": "stream",
     "text": [
      "The set of the first 3 triangular numbers is: {1, 3, 6}\n"
     ]
    }
   ],
   "source": [
    "def generate_triangular_numbers(n):\n",
    "    triangular_numbers = set()  # Create an empty set to store the triangular numbers\n",
    "    for i in range(1, n + 1):\n",
    "        triangular_number = i * (i + 1) // 2  # Calculate the ith triangular number using the formula\n",
    "        triangular_numbers.add(triangular_number)  # Add the calculated triangular number to the set\n",
    "    return triangular_numbers\n",
    "\n",
    "# Input the value of 'n'\n",
    "n = int(input(\"Enter the value of n: \"))\n",
    "\n",
    "# Call the function to generate the set of first 'n' triangular numbers\n",
    "triangular_set = generate_triangular_numbers(n)\n",
    "\n",
    "# Display the set of triangular numbers\n",
    "print(f\"The set of the first {n} triangular numbers is:\", triangular_set)"
   ]
  },
  {
   "cell_type": "code",
   "execution_count": 52,
   "id": "f9b63d5a-1935-46c5-8671-280c0701411f",
   "metadata": {},
   "outputs": [
    {
     "name": "stdout",
     "output_type": "stream",
     "text": [
      "set2 is a subset of set1\n"
     ]
    }
   ],
   "source": [
    "# Define two sets\n",
    "set1 = {1, 2, 3, 4, 5}\n",
    "set2 = {3, 4}\n",
    "\n",
    "# Check if set2 is a subset of set1\n",
    "is_subset = set2.issubset(set1)\n",
    "\n",
    "# Print the result\n",
    "if is_subset:\n",
    "    print(\"set2 is a subset of set1\")\n",
    "else:\n",
    "    print(\"set2 is not a subset of set1\")"
   ]
  },
  {
   "cell_type": "code",
   "execution_count": 53,
   "id": "0fb47dd4-3930-411f-ab25-b57e39ab470d",
   "metadata": {},
   "outputs": [
    {
     "name": "stdout",
     "output_type": "stream",
     "text": [
      "{0, 1}\n"
     ]
    }
   ],
   "source": [
    "def create_alternating_set(n):\n",
    "    # Initialize an empty set to store the alternating sequence.\n",
    "    alternating_set = set()\n",
    "\n",
    "    # Loop to generate alternating 1s and 0s.\n",
    "    for i in range(n):\n",
    "        # Alternate between adding 1 and 0 to the set based on whether i is even or odd.\n",
    "        if i % 2 == 0:\n",
    "            alternating_set.add(1)  # Add 1 if i is even.\n",
    "        else:\n",
    "            alternating_set.add(0)  # Add 0 if i is odd.\n",
    "\n",
    "    return alternating_set\n",
    "\n",
    "# Define the desired length of the alternating set.\n",
    "length_n = 10\n",
    "\n",
    "# Call the function to create the alternating set of length 'length_n'.\n",
    "result = create_alternating_set(length_n)\n",
    "\n",
    "# Print the resulting set.\n",
    "print(result)"
   ]
  },
  {
   "cell_type": "code",
   "execution_count": 54,
   "id": "7ba27150-5021-49bb-b8e8-2cc445c7b327",
   "metadata": {},
   "outputs": [
    {
     "name": "stdout",
     "output_type": "stream",
     "text": [
      "Merged Set: {1, 2, 3, 4, 5, 6, 7}\n"
     ]
    }
   ],
   "source": [
    "# Step 1: Create multiple sets\n",
    "set1 = {1, 2, 3}\n",
    "set2 = {3, 4, 5}\n",
    "set3 = {5, 6, 7}\n",
    "\n",
    "# Step 2: Use the union() method to merge sets\n",
    "merged_set = set1.union(set2, set3)\n",
    "\n",
    "# Alternatively, you can use the | operator\n",
    "# merged_set = set1 | set2 | set3\n",
    "\n",
    "# Step 3: Print the merged set\n",
    "print(\"Merged Set:\", merged_set)"
   ]
  },
  {
   "cell_type": "code",
   "execution_count": null,
   "id": "a804a321-ed0b-4779-982a-ebf3cf4a7559",
   "metadata": {},
   "outputs": [],
   "source": []
  }
 ],
 "metadata": {
  "kernelspec": {
   "display_name": "Python 3 (ipykernel)",
   "language": "python",
   "name": "python3"
  },
  "language_info": {
   "codemirror_mode": {
    "name": "ipython",
    "version": 3
   },
   "file_extension": ".py",
   "mimetype": "text/x-python",
   "name": "python",
   "nbconvert_exporter": "python",
   "pygments_lexer": "ipython3",
   "version": "3.10.8"
  }
 },
 "nbformat": 4,
 "nbformat_minor": 5
}
